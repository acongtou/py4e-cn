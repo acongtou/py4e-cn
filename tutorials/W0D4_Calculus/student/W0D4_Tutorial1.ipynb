{
  "nbformat": 4,
  "nbformat_minor": 0,
  "metadata": {
    "colab": {
      "name": "W0D4_Tutorial1",
      "provenance": [],
      "collapsed_sections": [
        "nq-hVvP1MZqa",
        "KCWR4wciMZqb",
        "tcLiKp-AMZqc",
        "8-bz4N8eMZqd",
        "9-BbBcZPMZqf",
        "L0_P-VNEMZqf",
        "Yx7vP4zvMZqg",
        "RACJEWwMMZqg",
        "dXFmgh9UMZqh",
        "pMQS0U54MZqi",
        "ZLb9XPF_VvPm",
        "c0oilOjOV0KZ"
      ],
      "toc_visible": true,
      "include_colab_link": true
    },
    "kernel": {
      "display_name": "Python 3",
      "language": "python",
      "name": "python3"
    },
    "kernelspec": {
      "display_name": "Python 3",
      "name": "python3"
    },
    "language_info": {
      "codemirror_mode": {
        "name": "ipython",
        "version": 3
      },
      "file_extension": ".py",
      "mimetype": "text/x-python",
      "name": "python",
      "nbconvert_exporter": "python",
      "pygments_lexer": "ipython3",
      "version": "3.7.10"
    },
    "widgets": {
      "application/vnd.jupyter.widget-state+json": {
        "a5fbe83dcea943af895d7b425941d6f3": {
          "model_module": "@jupyter-widgets/controls",
          "model_name": "TabModel",
          "state": {
            "_view_name": "TabView",
            "_dom_classes": [],
            "_titles": {
              "0": "Youtube",
              "1": "Bilibili"
            },
            "_model_name": "TabModel",
            "_view_module": "@jupyter-widgets/controls",
            "selected_index": 0,
            "_model_module_version": "1.5.0",
            "_view_count": null,
            "_view_module_version": "1.5.0",
            "box_style": "",
            "layout": "IPY_MODEL_17ad1fcf3a82443daceeb79930bfff12",
            "_model_module": "@jupyter-widgets/controls",
            "children": [
              "IPY_MODEL_41b4109e9ea94cfabe19ec7726014dd2",
              "IPY_MODEL_583c2b0626584965a7076d4b7ba476e1"
            ]
          }
        },
        "17ad1fcf3a82443daceeb79930bfff12": {
          "model_module": "@jupyter-widgets/base",
          "model_name": "LayoutModel",
          "state": {
            "_view_name": "LayoutView",
            "grid_template_rows": null,
            "right": null,
            "justify_content": null,
            "_view_module": "@jupyter-widgets/base",
            "overflow": null,
            "_model_module_version": "1.2.0",
            "_view_count": null,
            "flex_flow": null,
            "width": null,
            "min_width": null,
            "border": null,
            "align_items": null,
            "bottom": null,
            "_model_module": "@jupyter-widgets/base",
            "top": null,
            "grid_column": null,
            "overflow_y": null,
            "overflow_x": null,
            "grid_auto_flow": null,
            "grid_area": null,
            "grid_template_columns": null,
            "flex": null,
            "_model_name": "LayoutModel",
            "justify_items": null,
            "grid_row": null,
            "max_height": null,
            "align_content": null,
            "visibility": null,
            "align_self": null,
            "height": null,
            "min_height": null,
            "padding": null,
            "grid_auto_rows": null,
            "grid_gap": null,
            "max_width": null,
            "order": null,
            "_view_module_version": "1.2.0",
            "grid_template_areas": null,
            "object_position": null,
            "object_fit": null,
            "grid_auto_columns": null,
            "margin": null,
            "display": null,
            "left": null
          }
        },
        "41b4109e9ea94cfabe19ec7726014dd2": {
          "model_module": "@jupyter-widgets/output",
          "model_name": "OutputModel",
          "state": {
            "_view_name": "OutputView",
            "msg_id": "",
            "_dom_classes": [],
            "_model_name": "OutputModel",
            "outputs": [
              {
                "output_type": "stream",
                "metadata": {
                  "tags": []
                },
                "text": "Video available at https://youtube.com/watch?v=NZwfH_dG2wI\n",
                "stream": "stdout"
              },
              {
                "output_type": "display_data",
                "metadata": {
                  "tags": []
                },
                "text/html": "\n        <iframe\n            width=\"854\"\n            height=\"480\"\n            src=\"https://www.youtube.com/embed/NZwfH_dG2wI?fs=1&rel=0\"\n            frameborder=\"0\"\n            allowfullscreen\n        ></iframe>\n        ",
                "text/plain": "<IPython.lib.display.YouTubeVideo at 0x7f18c37b3290>",
                "image/jpeg": "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\n"
              }
            ],
            "_view_module": "@jupyter-widgets/output",
            "_model_module_version": "1.0.0",
            "_view_count": null,
            "_view_module_version": "1.0.0",
            "layout": "IPY_MODEL_11f07962bd604eaf9fae7d49311dc906",
            "_model_module": "@jupyter-widgets/output"
          }
        },
        "583c2b0626584965a7076d4b7ba476e1": {
          "model_module": "@jupyter-widgets/output",
          "model_name": "OutputModel",
          "state": {
            "_view_name": "OutputView",
            "msg_id": "",
            "_dom_classes": [],
            "_model_name": "OutputModel",
            "outputs": [
              {
                "output_type": "stream",
                "metadata": {
                  "tags": []
                },
                "text": "Video available at https://www.bilibili.com/video/BV1F44y1z7Uk\n",
                "stream": "stdout"
              },
              {
                "output_type": "display_data",
                "metadata": {
                  "tags": []
                },
                "text/html": "\n        <iframe\n            width=\"854\"\n            height=\"480\"\n            src=\"https://player.bilibili.com/player.html?bvid=BV1F44y1z7Uk&page=1?fs=1\"\n            frameborder=\"0\"\n            allowfullscreen\n        ></iframe>\n        ",
                "text/plain": "<__main__.BiliVideo at 0x7f18c88a8e90>"
              }
            ],
            "_view_module": "@jupyter-widgets/output",
            "_model_module_version": "1.0.0",
            "_view_count": null,
            "_view_module_version": "1.0.0",
            "layout": "IPY_MODEL_c9f9a0ad709a4118b338e5a0c923af11",
            "_model_module": "@jupyter-widgets/output"
          }
        },
        "11f07962bd604eaf9fae7d49311dc906": {
          "model_module": "@jupyter-widgets/base",
          "model_name": "LayoutModel",
          "state": {
            "_view_name": "LayoutView",
            "grid_template_rows": null,
            "right": null,
            "justify_content": null,
            "_view_module": "@jupyter-widgets/base",
            "overflow": null,
            "_model_module_version": "1.2.0",
            "_view_count": null,
            "flex_flow": null,
            "width": null,
            "min_width": null,
            "border": null,
            "align_items": null,
            "bottom": null,
            "_model_module": "@jupyter-widgets/base",
            "top": null,
            "grid_column": null,
            "overflow_y": null,
            "overflow_x": null,
            "grid_auto_flow": null,
            "grid_area": null,
            "grid_template_columns": null,
            "flex": null,
            "_model_name": "LayoutModel",
            "justify_items": null,
            "grid_row": null,
            "max_height": null,
            "align_content": null,
            "visibility": null,
            "align_self": null,
            "height": null,
            "min_height": null,
            "padding": null,
            "grid_auto_rows": null,
            "grid_gap": null,
            "max_width": null,
            "order": null,
            "_view_module_version": "1.2.0",
            "grid_template_areas": null,
            "object_position": null,
            "object_fit": null,
            "grid_auto_columns": null,
            "margin": null,
            "display": null,
            "left": null
          }
        },
        "c9f9a0ad709a4118b338e5a0c923af11": {
          "model_module": "@jupyter-widgets/base",
          "model_name": "LayoutModel",
          "state": {
            "_view_name": "LayoutView",
            "grid_template_rows": null,
            "right": null,
            "justify_content": null,
            "_view_module": "@jupyter-widgets/base",
            "overflow": null,
            "_model_module_version": "1.2.0",
            "_view_count": null,
            "flex_flow": null,
            "width": null,
            "min_width": null,
            "border": null,
            "align_items": null,
            "bottom": null,
            "_model_module": "@jupyter-widgets/base",
            "top": null,
            "grid_column": null,
            "overflow_y": null,
            "overflow_x": null,
            "grid_auto_flow": null,
            "grid_area": null,
            "grid_template_columns": null,
            "flex": null,
            "_model_name": "LayoutModel",
            "justify_items": null,
            "grid_row": null,
            "max_height": null,
            "align_content": null,
            "visibility": null,
            "align_self": null,
            "height": null,
            "min_height": null,
            "padding": null,
            "grid_auto_rows": null,
            "grid_gap": null,
            "max_width": null,
            "order": null,
            "_view_module_version": "1.2.0",
            "grid_template_areas": null,
            "object_position": null,
            "object_fit": null,
            "grid_auto_columns": null,
            "margin": null,
            "display": null,
            "left": null
          }
        },
        "ea37973f412b4fd0a6de11251039c1a5": {
          "model_module": "@jupyter-widgets/controls",
          "model_name": "TabModel",
          "state": {
            "_view_name": "TabView",
            "_dom_classes": [],
            "_titles": {
              "0": "Youtube",
              "1": "Bilibili"
            },
            "_model_name": "TabModel",
            "_view_module": "@jupyter-widgets/controls",
            "selected_index": 0,
            "_model_module_version": "1.5.0",
            "_view_count": null,
            "_view_module_version": "1.5.0",
            "box_style": "",
            "layout": "IPY_MODEL_dce49903abb74aa5a8f7cc41f8e08af6",
            "_model_module": "@jupyter-widgets/controls",
            "children": [
              "IPY_MODEL_7590897eff824e21859f6e147c962c79",
              "IPY_MODEL_c52b28aa1c004721a30db205ba448a7e"
            ]
          }
        },
        "dce49903abb74aa5a8f7cc41f8e08af6": {
          "model_module": "@jupyter-widgets/base",
          "model_name": "LayoutModel",
          "state": {
            "_view_name": "LayoutView",
            "grid_template_rows": null,
            "right": null,
            "justify_content": null,
            "_view_module": "@jupyter-widgets/base",
            "overflow": null,
            "_model_module_version": "1.2.0",
            "_view_count": null,
            "flex_flow": null,
            "width": null,
            "min_width": null,
            "border": null,
            "align_items": null,
            "bottom": null,
            "_model_module": "@jupyter-widgets/base",
            "top": null,
            "grid_column": null,
            "overflow_y": null,
            "overflow_x": null,
            "grid_auto_flow": null,
            "grid_area": null,
            "grid_template_columns": null,
            "flex": null,
            "_model_name": "LayoutModel",
            "justify_items": null,
            "grid_row": null,
            "max_height": null,
            "align_content": null,
            "visibility": null,
            "align_self": null,
            "height": null,
            "min_height": null,
            "padding": null,
            "grid_auto_rows": null,
            "grid_gap": null,
            "max_width": null,
            "order": null,
            "_view_module_version": "1.2.0",
            "grid_template_areas": null,
            "object_position": null,
            "object_fit": null,
            "grid_auto_columns": null,
            "margin": null,
            "display": null,
            "left": null
          }
        },
        "7590897eff824e21859f6e147c962c79": {
          "model_module": "@jupyter-widgets/output",
          "model_name": "OutputModel",
          "state": {
            "_view_name": "OutputView",
            "msg_id": "",
            "_dom_classes": [],
            "_model_name": "OutputModel",
            "outputs": [
              {
                "output_type": "stream",
                "metadata": {
                  "tags": []
                },
                "text": "Video available at https://youtube.com/watch?v=uQjwr9RQaEs\n",
                "stream": "stdout"
              },
              {
                "output_type": "display_data",
                "metadata": {
                  "tags": []
                },
                "text/html": "\n        <iframe\n            width=\"854\"\n            height=\"480\"\n            src=\"https://www.youtube.com/embed/uQjwr9RQaEs?fs=1&rel=0\"\n            frameborder=\"0\"\n            allowfullscreen\n        ></iframe>\n        ",
                "text/plain": "<IPython.lib.display.YouTubeVideo at 0x7f18b6725fd0>",
                "image/jpeg": "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\n"
              }
            ],
            "_view_module": "@jupyter-widgets/output",
            "_model_module_version": "1.0.0",
            "_view_count": null,
            "_view_module_version": "1.0.0",
            "layout": "IPY_MODEL_731b3143a2704de3b77a34f937b19d19",
            "_model_module": "@jupyter-widgets/output"
          }
        },
        "c52b28aa1c004721a30db205ba448a7e": {
          "model_module": "@jupyter-widgets/output",
          "model_name": "OutputModel",
          "state": {
            "_view_name": "OutputView",
            "msg_id": "",
            "_dom_classes": [],
            "_model_name": "OutputModel",
            "outputs": [
              {
                "output_type": "stream",
                "metadata": {
                  "tags": []
                },
                "text": "Video available at https://www.bilibili.com/video/BV1sU4y1G7Ru\n",
                "stream": "stdout"
              },
              {
                "output_type": "display_data",
                "metadata": {
                  "tags": []
                },
                "text/html": "\n        <iframe\n            width=\"854\"\n            height=\"480\"\n            src=\"https://player.bilibili.com/player.html?bvid=BV1sU4y1G7Ru&page=1?fs=1\"\n            frameborder=\"0\"\n            allowfullscreen\n        ></iframe>\n        ",
                "text/plain": "<__main__.BiliVideo at 0x7f18c37bc090>"
              }
            ],
            "_view_module": "@jupyter-widgets/output",
            "_model_module_version": "1.0.0",
            "_view_count": null,
            "_view_module_version": "1.0.0",
            "layout": "IPY_MODEL_9063e7ac1e794e7e9dda9678944e5aa6",
            "_model_module": "@jupyter-widgets/output"
          }
        },
        "731b3143a2704de3b77a34f937b19d19": {
          "model_module": "@jupyter-widgets/base",
          "model_name": "LayoutModel",
          "state": {
            "_view_name": "LayoutView",
            "grid_template_rows": null,
            "right": null,
            "justify_content": null,
            "_view_module": "@jupyter-widgets/base",
            "overflow": null,
            "_model_module_version": "1.2.0",
            "_view_count": null,
            "flex_flow": null,
            "width": null,
            "min_width": null,
            "border": null,
            "align_items": null,
            "bottom": null,
            "_model_module": "@jupyter-widgets/base",
            "top": null,
            "grid_column": null,
            "overflow_y": null,
            "overflow_x": null,
            "grid_auto_flow": null,
            "grid_area": null,
            "grid_template_columns": null,
            "flex": null,
            "_model_name": "LayoutModel",
            "justify_items": null,
            "grid_row": null,
            "max_height": null,
            "align_content": null,
            "visibility": null,
            "align_self": null,
            "height": null,
            "min_height": null,
            "padding": null,
            "grid_auto_rows": null,
            "grid_gap": null,
            "max_width": null,
            "order": null,
            "_view_module_version": "1.2.0",
            "grid_template_areas": null,
            "object_position": null,
            "object_fit": null,
            "grid_auto_columns": null,
            "margin": null,
            "display": null,
            "left": null
          }
        },
        "9063e7ac1e794e7e9dda9678944e5aa6": {
          "model_module": "@jupyter-widgets/base",
          "model_name": "LayoutModel",
          "state": {
            "_view_name": "LayoutView",
            "grid_template_rows": null,
            "right": null,
            "justify_content": null,
            "_view_module": "@jupyter-widgets/base",
            "overflow": null,
            "_model_module_version": "1.2.0",
            "_view_count": null,
            "flex_flow": null,
            "width": null,
            "min_width": null,
            "border": null,
            "align_items": null,
            "bottom": null,
            "_model_module": "@jupyter-widgets/base",
            "top": null,
            "grid_column": null,
            "overflow_y": null,
            "overflow_x": null,
            "grid_auto_flow": null,
            "grid_area": null,
            "grid_template_columns": null,
            "flex": null,
            "_model_name": "LayoutModel",
            "justify_items": null,
            "grid_row": null,
            "max_height": null,
            "align_content": null,
            "visibility": null,
            "align_self": null,
            "height": null,
            "min_height": null,
            "padding": null,
            "grid_auto_rows": null,
            "grid_gap": null,
            "max_width": null,
            "order": null,
            "_view_module_version": "1.2.0",
            "grid_template_areas": null,
            "object_position": null,
            "object_fit": null,
            "grid_auto_columns": null,
            "margin": null,
            "display": null,
            "left": null
          }
        },
        "a3d2199f16b046ae827c21ee1579411d": {
          "model_module": "@jupyter-widgets/controls",
          "model_name": "VBoxModel",
          "state": {
            "_view_name": "VBoxView",
            "_dom_classes": [
              "widget-interact"
            ],
            "_model_name": "VBoxModel",
            "_view_module": "@jupyter-widgets/controls",
            "_model_module_version": "1.5.0",
            "_view_count": null,
            "_view_module_version": "1.5.0",
            "box_style": "",
            "layout": "IPY_MODEL_184f76b61fbd46739725a84302b05f3b",
            "_model_module": "@jupyter-widgets/controls",
            "children": [
              "IPY_MODEL_108f34368c144168b85a03baafcf0033",
              "IPY_MODEL_60f04172f7b446d295f6876162c6c940",
              "IPY_MODEL_355714e95f2146c6b9192d27a68d96a2",
              "IPY_MODEL_2ba50ef3b100434f970b20886a638d03"
            ]
          }
        },
        "184f76b61fbd46739725a84302b05f3b": {
          "model_module": "@jupyter-widgets/base",
          "model_name": "LayoutModel",
          "state": {
            "_view_name": "LayoutView",
            "grid_template_rows": null,
            "right": null,
            "justify_content": null,
            "_view_module": "@jupyter-widgets/base",
            "overflow": null,
            "_model_module_version": "1.2.0",
            "_view_count": null,
            "flex_flow": null,
            "width": null,
            "min_width": null,
            "border": null,
            "align_items": null,
            "bottom": null,
            "_model_module": "@jupyter-widgets/base",
            "top": null,
            "grid_column": null,
            "overflow_y": null,
            "overflow_x": null,
            "grid_auto_flow": null,
            "grid_area": null,
            "grid_template_columns": null,
            "flex": null,
            "_model_name": "LayoutModel",
            "justify_items": null,
            "grid_row": null,
            "max_height": null,
            "align_content": null,
            "visibility": null,
            "align_self": null,
            "height": null,
            "min_height": null,
            "padding": null,
            "grid_auto_rows": null,
            "grid_gap": null,
            "max_width": null,
            "order": null,
            "_view_module_version": "1.2.0",
            "grid_template_areas": null,
            "object_position": null,
            "object_fit": null,
            "grid_auto_columns": null,
            "margin": null,
            "display": null,
            "left": null
          }
        },
        "108f34368c144168b85a03baafcf0033": {
          "model_module": "@jupyter-widgets/controls",
          "model_name": "DropdownModel",
          "state": {
            "_options_labels": [
              "Linear",
              "Exponential",
              "Sine",
              "Sigmoid"
            ],
            "_view_name": "DropdownView",
            "style": "IPY_MODEL_dac2bf9d1a444516afb7e1f6ac24e9e9",
            "_dom_classes": [],
            "description": "Function",
            "_model_name": "DropdownModel",
            "index": 0,
            "_view_module": "@jupyter-widgets/controls",
            "_model_module_version": "1.5.0",
            "_view_count": null,
            "disabled": false,
            "_view_module_version": "1.5.0",
            "description_tooltip": null,
            "_model_module": "@jupyter-widgets/controls",
            "layout": "IPY_MODEL_fd2fa3758d2e41b0b47fc59753958034"
          }
        },
        "60f04172f7b446d295f6876162c6c940": {
          "model_module": "@jupyter-widgets/controls",
          "model_name": "CheckboxModel",
          "state": {
            "_view_name": "CheckboxView",
            "style": "IPY_MODEL_5f281039241f4bd88f48439203bb8f6b",
            "_dom_classes": [],
            "description": "Show derivative",
            "_model_name": "CheckboxModel",
            "_view_module": "@jupyter-widgets/controls",
            "_model_module_version": "1.5.0",
            "value": false,
            "_view_count": null,
            "disabled": false,
            "_view_module_version": "1.5.0",
            "indent": false,
            "description_tooltip": null,
            "_model_module": "@jupyter-widgets/controls",
            "layout": "IPY_MODEL_f6ffe915a9584d1e885359977fe24efe"
          }
        },
        "355714e95f2146c6b9192d27a68d96a2": {
          "model_module": "@jupyter-widgets/controls",
          "model_name": "CheckboxModel",
          "state": {
            "_view_name": "CheckboxView",
            "style": "IPY_MODEL_46143cc866504431ba0be382c01c0d47",
            "_dom_classes": [],
            "description": "Show integral",
            "_model_name": "CheckboxModel",
            "_view_module": "@jupyter-widgets/controls",
            "_model_module_version": "1.5.0",
            "value": false,
            "_view_count": null,
            "disabled": false,
            "_view_module_version": "1.5.0",
            "indent": false,
            "description_tooltip": null,
            "_model_module": "@jupyter-widgets/controls",
            "layout": "IPY_MODEL_747e83bc61cc4171b0dd51324a4f28a4"
          }
        },
        "2ba50ef3b100434f970b20886a638d03": {
          "model_module": "@jupyter-widgets/output",
          "model_name": "OutputModel",
          "state": {
            "_view_name": "OutputView",
            "msg_id": "",
            "_dom_classes": [],
            "_model_name": "OutputModel",
            "outputs": [
              {
                "output_type": "display_data",
                "metadata": {
                  "tags": [],
                  "image/png": {
                    "width": 843,
                    "height": 303
                  },
                  "needs_background": "light"
                },
                "image/png": "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\n",
                "text/plain": "<Figure size 864x324 with 1 Axes>"
              }
            ],
            "_view_module": "@jupyter-widgets/output",
            "_model_module_version": "1.0.0",
            "_view_count": null,
            "_view_module_version": "1.0.0",
            "layout": "IPY_MODEL_9c08162963844a919d19d854ff446a74",
            "_model_module": "@jupyter-widgets/output"
          }
        },
        "dac2bf9d1a444516afb7e1f6ac24e9e9": {
          "model_module": "@jupyter-widgets/controls",
          "model_name": "DescriptionStyleModel",
          "state": {
            "_view_name": "StyleView",
            "_model_name": "DescriptionStyleModel",
            "description_width": "",
            "_view_module": "@jupyter-widgets/base",
            "_model_module_version": "1.5.0",
            "_view_count": null,
            "_view_module_version": "1.2.0",
            "_model_module": "@jupyter-widgets/controls"
          }
        },
        "fd2fa3758d2e41b0b47fc59753958034": {
          "model_module": "@jupyter-widgets/base",
          "model_name": "LayoutModel",
          "state": {
            "_view_name": "LayoutView",
            "grid_template_rows": null,
            "right": null,
            "justify_content": null,
            "_view_module": "@jupyter-widgets/base",
            "overflow": null,
            "_model_module_version": "1.2.0",
            "_view_count": null,
            "flex_flow": null,
            "width": null,
            "min_width": null,
            "border": null,
            "align_items": null,
            "bottom": null,
            "_model_module": "@jupyter-widgets/base",
            "top": null,
            "grid_column": null,
            "overflow_y": null,
            "overflow_x": null,
            "grid_auto_flow": null,
            "grid_area": null,
            "grid_template_columns": null,
            "flex": null,
            "_model_name": "LayoutModel",
            "justify_items": null,
            "grid_row": null,
            "max_height": null,
            "align_content": null,
            "visibility": null,
            "align_self": null,
            "height": null,
            "min_height": null,
            "padding": null,
            "grid_auto_rows": null,
            "grid_gap": null,
            "max_width": null,
            "order": null,
            "_view_module_version": "1.2.0",
            "grid_template_areas": null,
            "object_position": null,
            "object_fit": null,
            "grid_auto_columns": null,
            "margin": null,
            "display": null,
            "left": null
          }
        },
        "5f281039241f4bd88f48439203bb8f6b": {
          "model_module": "@jupyter-widgets/controls",
          "model_name": "DescriptionStyleModel",
          "state": {
            "_view_name": "StyleView",
            "_model_name": "DescriptionStyleModel",
            "description_width": "",
            "_view_module": "@jupyter-widgets/base",
            "_model_module_version": "1.5.0",
            "_view_count": null,
            "_view_module_version": "1.2.0",
            "_model_module": "@jupyter-widgets/controls"
          }
        },
        "f6ffe915a9584d1e885359977fe24efe": {
          "model_module": "@jupyter-widgets/base",
          "model_name": "LayoutModel",
          "state": {
            "_view_name": "LayoutView",
            "grid_template_rows": null,
            "right": null,
            "justify_content": null,
            "_view_module": "@jupyter-widgets/base",
            "overflow": null,
            "_model_module_version": "1.2.0",
            "_view_count": null,
            "flex_flow": null,
            "width": null,
            "min_width": null,
            "border": null,
            "align_items": null,
            "bottom": null,
            "_model_module": "@jupyter-widgets/base",
            "top": null,
            "grid_column": null,
            "overflow_y": null,
            "overflow_x": null,
            "grid_auto_flow": null,
            "grid_area": null,
            "grid_template_columns": null,
            "flex": null,
            "_model_name": "LayoutModel",
            "justify_items": null,
            "grid_row": null,
            "max_height": null,
            "align_content": null,
            "visibility": null,
            "align_self": null,
            "height": null,
            "min_height": null,
            "padding": null,
            "grid_auto_rows": null,
            "grid_gap": null,
            "max_width": null,
            "order": null,
            "_view_module_version": "1.2.0",
            "grid_template_areas": null,
            "object_position": null,
            "object_fit": null,
            "grid_auto_columns": null,
            "margin": null,
            "display": null,
            "left": null
          }
        },
        "46143cc866504431ba0be382c01c0d47": {
          "model_module": "@jupyter-widgets/controls",
          "model_name": "DescriptionStyleModel",
          "state": {
            "_view_name": "StyleView",
            "_model_name": "DescriptionStyleModel",
            "description_width": "",
            "_view_module": "@jupyter-widgets/base",
            "_model_module_version": "1.5.0",
            "_view_count": null,
            "_view_module_version": "1.2.0",
            "_model_module": "@jupyter-widgets/controls"
          }
        },
        "747e83bc61cc4171b0dd51324a4f28a4": {
          "model_module": "@jupyter-widgets/base",
          "model_name": "LayoutModel",
          "state": {
            "_view_name": "LayoutView",
            "grid_template_rows": null,
            "right": null,
            "justify_content": null,
            "_view_module": "@jupyter-widgets/base",
            "overflow": null,
            "_model_module_version": "1.2.0",
            "_view_count": null,
            "flex_flow": null,
            "width": null,
            "min_width": null,
            "border": null,
            "align_items": null,
            "bottom": null,
            "_model_module": "@jupyter-widgets/base",
            "top": null,
            "grid_column": null,
            "overflow_y": null,
            "overflow_x": null,
            "grid_auto_flow": null,
            "grid_area": null,
            "grid_template_columns": null,
            "flex": null,
            "_model_name": "LayoutModel",
            "justify_items": null,
            "grid_row": null,
            "max_height": null,
            "align_content": null,
            "visibility": null,
            "align_self": null,
            "height": null,
            "min_height": null,
            "padding": null,
            "grid_auto_rows": null,
            "grid_gap": null,
            "max_width": null,
            "order": null,
            "_view_module_version": "1.2.0",
            "grid_template_areas": null,
            "object_position": null,
            "object_fit": null,
            "grid_auto_columns": null,
            "margin": null,
            "display": null,
            "left": null
          }
        },
        "9c08162963844a919d19d854ff446a74": {
          "model_module": "@jupyter-widgets/base",
          "model_name": "LayoutModel",
          "state": {
            "_view_name": "LayoutView",
            "grid_template_rows": null,
            "right": null,
            "justify_content": null,
            "_view_module": "@jupyter-widgets/base",
            "overflow": null,
            "_model_module_version": "1.2.0",
            "_view_count": null,
            "flex_flow": null,
            "width": null,
            "min_width": null,
            "border": null,
            "align_items": null,
            "bottom": null,
            "_model_module": "@jupyter-widgets/base",
            "top": null,
            "grid_column": null,
            "overflow_y": null,
            "overflow_x": null,
            "grid_auto_flow": null,
            "grid_area": null,
            "grid_template_columns": null,
            "flex": null,
            "_model_name": "LayoutModel",
            "justify_items": null,
            "grid_row": null,
            "max_height": null,
            "align_content": null,
            "visibility": null,
            "align_self": null,
            "height": null,
            "min_height": null,
            "padding": null,
            "grid_auto_rows": null,
            "grid_gap": null,
            "max_width": null,
            "order": null,
            "_view_module_version": "1.2.0",
            "grid_template_areas": null,
            "object_position": null,
            "object_fit": null,
            "grid_auto_columns": null,
            "margin": null,
            "display": null,
            "left": null
          }
        },
        "1c6c17e163ab42109d21853cf5f8eb68": {
          "model_module": "@jupyter-widgets/controls",
          "model_name": "TabModel",
          "state": {
            "_view_name": "TabView",
            "_dom_classes": [],
            "_titles": {
              "0": "Youtube",
              "1": "Bilibili"
            },
            "_model_name": "TabModel",
            "_view_module": "@jupyter-widgets/controls",
            "selected_index": 0,
            "_model_module_version": "1.5.0",
            "_view_count": null,
            "_view_module_version": "1.5.0",
            "box_style": "",
            "layout": "IPY_MODEL_4ad2b51f55d94a059361d011f7a1133a",
            "_model_module": "@jupyter-widgets/controls",
            "children": [
              "IPY_MODEL_9dc8526846f94f3680d11e1d5c90f6e7",
              "IPY_MODEL_180bb9f2a5084f8b954addb2d6acf989"
            ]
          }
        },
        "4ad2b51f55d94a059361d011f7a1133a": {
          "model_module": "@jupyter-widgets/base",
          "model_name": "LayoutModel",
          "state": {
            "_view_name": "LayoutView",
            "grid_template_rows": null,
            "right": null,
            "justify_content": null,
            "_view_module": "@jupyter-widgets/base",
            "overflow": null,
            "_model_module_version": "1.2.0",
            "_view_count": null,
            "flex_flow": null,
            "width": null,
            "min_width": null,
            "border": null,
            "align_items": null,
            "bottom": null,
            "_model_module": "@jupyter-widgets/base",
            "top": null,
            "grid_column": null,
            "overflow_y": null,
            "overflow_x": null,
            "grid_auto_flow": null,
            "grid_area": null,
            "grid_template_columns": null,
            "flex": null,
            "_model_name": "LayoutModel",
            "justify_items": null,
            "grid_row": null,
            "max_height": null,
            "align_content": null,
            "visibility": null,
            "align_self": null,
            "height": null,
            "min_height": null,
            "padding": null,
            "grid_auto_rows": null,
            "grid_gap": null,
            "max_width": null,
            "order": null,
            "_view_module_version": "1.2.0",
            "grid_template_areas": null,
            "object_position": null,
            "object_fit": null,
            "grid_auto_columns": null,
            "margin": null,
            "display": null,
            "left": null
          }
        },
        "9dc8526846f94f3680d11e1d5c90f6e7": {
          "model_module": "@jupyter-widgets/output",
          "model_name": "OutputModel",
          "state": {
            "_view_name": "OutputView",
            "msg_id": "",
            "_dom_classes": [],
            "_model_name": "OutputModel",
            "outputs": [
              {
                "output_type": "stream",
                "metadata": {
                  "tags": []
                },
                "text": "Video available at https://youtube.com/watch?v=sHogZISXGuQ\n",
                "stream": "stdout"
              },
              {
                "output_type": "display_data",
                "metadata": {
                  "tags": []
                },
                "text/html": "\n        <iframe\n            width=\"854\"\n            height=\"480\"\n            src=\"https://www.youtube.com/embed/sHogZISXGuQ?fs=1&rel=0\"\n            frameborder=\"0\"\n            allowfullscreen\n        ></iframe>\n        ",
                "text/plain": "<IPython.lib.display.YouTubeVideo at 0x7f18ae3f9e10>",
                "image/jpeg": "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\n"
              }
            ],
            "_view_module": "@jupyter-widgets/output",
            "_model_module_version": "1.0.0",
            "_view_count": null,
            "_view_module_version": "1.0.0",
            "layout": "IPY_MODEL_11fcb87a71bf41b8892a43bbb5dbcc26",
            "_model_module": "@jupyter-widgets/output"
          }
        },
        "180bb9f2a5084f8b954addb2d6acf989": {
          "model_module": "@jupyter-widgets/output",
          "model_name": "OutputModel",
          "state": {
            "_view_name": "OutputView",
            "msg_id": "",
            "_dom_classes": [],
            "_model_name": "OutputModel",
            "outputs": [
              {
                "output_type": "stream",
                "metadata": {
                  "tags": []
                },
                "text": "Video available at https://www.bilibili.com/video/BV14g41137d5\n",
                "stream": "stdout"
              },
              {
                "output_type": "display_data",
                "metadata": {
                  "tags": []
                },
                "text/html": "\n        <iframe\n            width=\"854\"\n            height=\"480\"\n            src=\"https://player.bilibili.com/player.html?bvid=BV14g41137d5&page=1?fs=1\"\n            frameborder=\"0\"\n            allowfullscreen\n        ></iframe>\n        ",
                "text/plain": "<__main__.BiliVideo at 0x7f18ae418350>"
              }
            ],
            "_view_module": "@jupyter-widgets/output",
            "_model_module_version": "1.0.0",
            "_view_count": null,
            "_view_module_version": "1.0.0",
            "layout": "IPY_MODEL_f8b8c4e86952465a8510d8f0e9cdb6af",
            "_model_module": "@jupyter-widgets/output"
          }
        },
        "11fcb87a71bf41b8892a43bbb5dbcc26": {
          "model_module": "@jupyter-widgets/base",
          "model_name": "LayoutModel",
          "state": {
            "_view_name": "LayoutView",
            "grid_template_rows": null,
            "right": null,
            "justify_content": null,
            "_view_module": "@jupyter-widgets/base",
            "overflow": null,
            "_model_module_version": "1.2.0",
            "_view_count": null,
            "flex_flow": null,
            "width": null,
            "min_width": null,
            "border": null,
            "align_items": null,
            "bottom": null,
            "_model_module": "@jupyter-widgets/base",
            "top": null,
            "grid_column": null,
            "overflow_y": null,
            "overflow_x": null,
            "grid_auto_flow": null,
            "grid_area": null,
            "grid_template_columns": null,
            "flex": null,
            "_model_name": "LayoutModel",
            "justify_items": null,
            "grid_row": null,
            "max_height": null,
            "align_content": null,
            "visibility": null,
            "align_self": null,
            "height": null,
            "min_height": null,
            "padding": null,
            "grid_auto_rows": null,
            "grid_gap": null,
            "max_width": null,
            "order": null,
            "_view_module_version": "1.2.0",
            "grid_template_areas": null,
            "object_position": null,
            "object_fit": null,
            "grid_auto_columns": null,
            "margin": null,
            "display": null,
            "left": null
          }
        },
        "f8b8c4e86952465a8510d8f0e9cdb6af": {
          "model_module": "@jupyter-widgets/base",
          "model_name": "LayoutModel",
          "state": {
            "_view_name": "LayoutView",
            "grid_template_rows": null,
            "right": null,
            "justify_content": null,
            "_view_module": "@jupyter-widgets/base",
            "overflow": null,
            "_model_module_version": "1.2.0",
            "_view_count": null,
            "flex_flow": null,
            "width": null,
            "min_width": null,
            "border": null,
            "align_items": null,
            "bottom": null,
            "_model_module": "@jupyter-widgets/base",
            "top": null,
            "grid_column": null,
            "overflow_y": null,
            "overflow_x": null,
            "grid_auto_flow": null,
            "grid_area": null,
            "grid_template_columns": null,
            "flex": null,
            "_model_name": "LayoutModel",
            "justify_items": null,
            "grid_row": null,
            "max_height": null,
            "align_content": null,
            "visibility": null,
            "align_self": null,
            "height": null,
            "min_height": null,
            "padding": null,
            "grid_auto_rows": null,
            "grid_gap": null,
            "max_width": null,
            "order": null,
            "_view_module_version": "1.2.0",
            "grid_template_areas": null,
            "object_position": null,
            "object_fit": null,
            "grid_auto_columns": null,
            "margin": null,
            "display": null,
            "left": null
          }
        }
      }
    }
  },
  "cells": [
    {
      "cell_type": "markdown",
      "metadata": {
        "id": "view-in-github",
        "colab_type": "text"
      },
      "source": [
        "<a href=\"https://colab.research.google.com/github/acongtou/py4e-cn/blob/master/tutorials/W0D4_Calculus/student/W0D4_Tutorial1.ipynb\" target=\"_parent\"><img src=\"https://colab.research.google.com/assets/colab-badge.svg\" alt=\"Open In Colab\"/></a>"
      ]
    },
    {
      "cell_type": "markdown",
      "metadata": {
        "id": "-eWvD1N-Xx7M"
      },
      "source": [
        "# Tutorial 1: Differentiation and Integration\n",
        "**Week 0, Day 4: Calculus**\n",
        "\n",
        "**By Neuromatch Academy**\n",
        "\n",
        "__Content creators:__ John S Butler, Arvind Kumar with help from Ella Batty\n",
        "\n",
        "__Content reviewers:__  Aderogba Bayo, Tessy Tom, Matt McCann\n",
        "\n",
        "__Production editors:__ Matthew McCann, Ella Batty"
      ]
    },
    {
      "cell_type": "markdown",
      "metadata": {
        "id": "R2hFzmCrXx8E"
      },
      "source": [
        "**Our 2021 Sponsors, including Presenting Sponsor Facebook Reality Labs**\n",
        "\n",
        "<p align='center'><img src='https://github.com/NeuromatchAcademy/widgets/blob/master/sponsors.png?raw=True'/></p>"
      ]
    },
    {
      "cell_type": "markdown",
      "metadata": {
        "id": "nmW-vsd7Xx8F"
      },
      "source": [
        "---\n",
        "# Tutorial Objectives\n",
        "\n",
        "*Estimated timing of tutorial: 80 minutes*\n",
        "\n",
        "In this tutorial, we will cover aspects of calculus that will be frequently used in the main NMA course. We assume that you  have some familiarty with calculus, but may be a bit rusty or may not have done much practice.  Specifically the objectives of this tutorial are\n",
        "\n",
        "*   Get an intuitive understanding of derivative and integration operations\n",
        "*   Learn to calculate the derivatives of 1- and 2-dimensional functions/signals numerically\n",
        "*   Familiarize with the concept of neuron transfer function in 1- and 2-dimensions.\n",
        "*   Familiarize with the idea of numerical integration using Riemann sum\n",
        "\n",
        "\n"
      ]
    },
    {
      "cell_type": "code",
      "metadata": {
        "cellView": "form",
        "execution": {
          "iopub.execute_input": "2021-07-01T11:38:23.498791Z",
          "iopub.status.busy": "2021-07-01T11:38:23.498044Z",
          "iopub.status.idle": "2021-07-01T11:38:23.667771Z",
          "shell.execute_reply": "2021-07-01T11:38:23.664107Z"
        },
        "id": "JP52fySAXx8G",
        "outputId": "845e0131-c264-4e45-9fa2-b9073a20bc1f",
        "colab": {
          "base_uri": "https://localhost:8080/",
          "height": 580,
          "referenced_widgets": [
            "a5fbe83dcea943af895d7b425941d6f3",
            "17ad1fcf3a82443daceeb79930bfff12",
            "41b4109e9ea94cfabe19ec7726014dd2",
            "583c2b0626584965a7076d4b7ba476e1",
            "11f07962bd604eaf9fae7d49311dc906",
            "c9f9a0ad709a4118b338e5a0c923af11"
          ]
        }
      },
      "source": [
        "# @title Video 1: Why do we care about calculus?\n",
        "from ipywidgets import widgets\n",
        "\n",
        "out2 = widgets.Output()\n",
        "with out2:\n",
        "  from IPython.display import IFrame\n",
        "  class BiliVideo(IFrame):\n",
        "      def __init__(self, id, page=1, width=400, height=300, **kwargs):\n",
        "          self.id=id\n",
        "          src = 'https://player.bilibili.com/player.html?bvid={0}&page={1}'.format(id, page)\n",
        "          super(BiliVideo, self).__init__(src, width, height, **kwargs)\n",
        "\n",
        "  video = BiliVideo(id=\"BV1F44y1z7Uk\", width=854, height=480, fs=1)\n",
        "  print('Video available at https://www.bilibili.com/video/{0}'.format(video.id))\n",
        "  display(video)\n",
        "\n",
        "out1 = widgets.Output()\n",
        "with out1:\n",
        "  from IPython.display import YouTubeVideo\n",
        "  video = YouTubeVideo(id=\"NZwfH_dG2wI\", width=854, height=480, fs=1, rel=0)\n",
        "  print('Video available at https://youtube.com/watch?v=' + video.id)\n",
        "  display(video)\n",
        "\n",
        "out = widgets.Tab([out1, out2])\n",
        "out.set_title(0, 'Youtube')\n",
        "out.set_title(1, 'Bilibili')\n",
        "\n",
        "display(out)"
      ],
      "execution_count": 1,
      "outputs": [
        {
          "output_type": "display_data",
          "data": {
            "application/vnd.jupyter.widget-view+json": {
              "model_id": "a5fbe83dcea943af895d7b425941d6f3",
              "version_minor": 0,
              "version_major": 2
            },
            "text/plain": [
              "Tab(children=(Output(), Output()), _titles={'0': 'Youtube', '1': 'Bilibili'})"
            ]
          },
          "metadata": {
            "tags": []
          }
        }
      ]
    },
    {
      "cell_type": "markdown",
      "metadata": {
        "id": "bgeQRQO0Xx8H"
      },
      "source": [
        "---\n",
        "# Setup"
      ]
    },
    {
      "cell_type": "code",
      "metadata": {
        "execution": {
          "iopub.execute_input": "2021-07-01T11:38:23.676517Z",
          "iopub.status.busy": "2021-07-01T11:38:23.675967Z",
          "iopub.status.idle": "2021-07-01T11:38:35.095426Z",
          "shell.execute_reply": "2021-07-01T11:38:35.095894Z"
        },
        "id": "sfpB5SlKXx8I"
      },
      "source": [
        "# Imports\n",
        "!pip install sympy --quiet\n",
        "\n",
        "import numpy as np\n",
        "import scipy.optimize as opt       # import root-finding algorithm\n",
        "import sympy as sp                 # Python toolbox for symbolic maths\n",
        "import matplotlib.pyplot as plt\n",
        "from mpl_toolkits.mplot3d import Axes3D # Toolbox for rendring 3D figures\n",
        "from mpl_toolkits import mplot3d   # Toolbox for rendring 3D figures"
      ],
      "execution_count": 2,
      "outputs": []
    },
    {
      "cell_type": "code",
      "metadata": {
        "cellView": "form",
        "execution": {
          "iopub.execute_input": "2021-07-01T11:38:35.112188Z",
          "iopub.status.busy": "2021-07-01T11:38:35.108870Z",
          "iopub.status.idle": "2021-07-01T11:38:35.188872Z",
          "shell.execute_reply": "2021-07-01T11:38:35.189362Z"
        },
        "id": "PPH32zLsXx8J"
      },
      "source": [
        "# @title Figure Settings\n",
        "import ipywidgets as widgets  # interactive display\n",
        "from ipywidgets import interact\n",
        "%config InlineBackend.figure_format = 'retina'\n",
        "# use NMA plot style\n",
        "plt.style.use(\"https://raw.githubusercontent.com/NeuromatchAcademy/course-content/master/nma.mplstyle\")\n",
        "my_layout = widgets.Layout()\n",
        "\n",
        "fig_w, fig_h = 12, 4.5\n",
        "my_fontsize = 16\n",
        "my_params = {'axes.labelsize': my_fontsize,\n",
        "          'axes.titlesize': my_fontsize,\n",
        "          'figure.figsize': [fig_w, fig_h],\n",
        "          'font.size': my_fontsize,\n",
        "          'legend.fontsize': my_fontsize-4,\n",
        "          'lines.markersize': 8.,\n",
        "          'lines.linewidth': 2.,\n",
        "          'xtick.labelsize': my_fontsize-2,\n",
        "          'ytick.labelsize': my_fontsize-2}\n",
        "\n",
        "plt.rcParams.update(my_params)"
      ],
      "execution_count": 3,
      "outputs": []
    },
    {
      "cell_type": "code",
      "metadata": {
        "cellView": "form",
        "execution": {
          "iopub.execute_input": "2021-07-01T11:38:35.207175Z",
          "iopub.status.busy": "2021-07-01T11:38:35.202208Z",
          "iopub.status.idle": "2021-07-01T11:38:35.209567Z",
          "shell.execute_reply": "2021-07-01T11:38:35.208884Z"
        },
        "id": "TMoUqJorXx8L"
      },
      "source": [
        "# @title Plotting Functions\n",
        "def move_sympyplot_to_axes(p, ax):\n",
        "    backend = p.backend(p)\n",
        "    backend.ax = ax\n",
        "    backend.process_series()\n",
        "    backend.ax.spines['right'].set_color('none')\n",
        "    backend.ax.spines['bottom'].set_position('zero')\n",
        "    backend.ax.spines['top'].set_color('none')\n",
        "    plt.close(backend.fig)\n",
        "\n",
        "def plot_functions(function, show_derivative, show_integral):\n",
        "\n",
        "  # For sympy we first define our symbolic variable\n",
        "  x, y, z, t, f = sp.symbols('x y z t f')\n",
        "\n",
        "  # We define our function\n",
        "  if function == 'Linear':\n",
        "    f = -2*t\n",
        "    name = r'$-2t$'\n",
        "  elif function == 'Parabolic':\n",
        "    f =  t**2\n",
        "    name = r'$t^2$'\n",
        "  elif function == 'Exponential':\n",
        "    f =  sp.exp(t)\n",
        "    name = r'$e^t$'\n",
        "  elif function == 'Sine':\n",
        "    f =  sp.sin(t)\n",
        "    name = r'$sin(t)$'\n",
        "  elif function == 'Sigmoid':\n",
        "    f = 1/(1 + sp.exp(-(t-5)))\n",
        "    name = r'$\\frac{1}{1+e^{-(t-5)}}$'\n",
        "\n",
        "  if show_derivative and not show_integral:\n",
        "    # Calculate the derivative of sin(t) as a function of t\n",
        "    diff_f = sp.diff(f)\n",
        "    print('Derivative of', f, 'is ', diff_f)\n",
        "\n",
        "    p1 = sp.plot(f, diff_f, show=False)\n",
        "    p1[0].line_color='r'\n",
        "    p1[1].line_color='b'\n",
        "    p1[0].label='Function'\n",
        "    p1[1].label='Derivative'\n",
        "    p1.legend=True\n",
        "    p1.title = 'Function = ' + name + '\\n'\n",
        "    p1.show()\n",
        "  elif show_integral and not show_derivative:\n",
        "\n",
        "    int_f = sp.integrate(f)\n",
        "    int_f = int_f - int_f.subs(t, -10)\n",
        "    print('Integral of', f, 'is ', int_f)\n",
        "\n",
        "\n",
        "    p1 = sp.plot(f, int_f, show=False)\n",
        "    p1[0].line_color='r'\n",
        "    p1[1].line_color='g'\n",
        "    p1[0].label='Function'\n",
        "    p1[1].label='Integral'\n",
        "    p1.legend=True\n",
        "    p1.title = 'Function = ' + name + '\\n'\n",
        "    p1.show()\n",
        "\n",
        "\n",
        "  elif show_integral and show_derivative:\n",
        "\n",
        "    diff_f = sp.diff(f)\n",
        "    print('Derivative of', f, 'is ', diff_f)\n",
        "\n",
        "    int_f = sp.integrate(f)\n",
        "    int_f = int_f - int_f.subs(t, -10)\n",
        "    print('Integral of', f, 'is ', int_f)\n",
        "\n",
        "    p1 = sp.plot(f, diff_f, int_f, show=False)\n",
        "    p1[0].line_color='r'\n",
        "    p1[1].line_color='b'\n",
        "    p1[2].line_color='g'\n",
        "    p1[0].label='Function'\n",
        "    p1[1].label='Derivative'\n",
        "    p1[2].label='Integral'\n",
        "    p1.legend=True\n",
        "    p1.title = 'Function = ' + name + '\\n'\n",
        "    p1.show()\n",
        "\n",
        "  else:\n",
        "\n",
        "    p1 = sp.plot(f, show=False)\n",
        "    p1[0].line_color='r'\n",
        "    p1[0].label='Function'\n",
        "    p1.legend=True\n",
        "    p1.title = 'Function = ' + name + '\\n'\n",
        "    p1.show()\n",
        "\n",
        "def plot_alpha_func(t, f, df_dt):\n",
        "\n",
        "  plt.figure()\n",
        "  plt.subplot(2,1,1)\n",
        "  plt.plot(t, f, 'r', label='Alpha function')\n",
        "  plt.xlabel('Time (au)')\n",
        "  plt.ylabel('Voltage')\n",
        "  plt.title('Alpha function (f(t))')\n",
        "  #plt.legend()\n",
        "\n",
        "  plt.subplot(2,1,2)\n",
        "  plt.plot(t, df_dt, 'b', label='Derivative')\n",
        "  plt.title('Derivative of alpha function')\n",
        "  plt.xlabel('Time (au)')\n",
        "  plt.ylabel('df/dt')\n",
        "  #plt.legend()\n",
        "\n",
        "def plot_charge_transfer(t, PSP, numerical_integral):\n",
        "\n",
        "  fig, axes = plt.subplots(1, 2)\n",
        "\n",
        "  axes[0].plot(t, PSP)\n",
        "  axes[0].set(xlabel = 't', ylabel = 'PSP')\n",
        "\n",
        "  axes[1].plot(t, numerical_integral)\n",
        "  axes[1].set(xlabel = 't', ylabel = 'Charge Transferred')"
      ],
      "execution_count": 4,
      "outputs": []
    },
    {
      "cell_type": "markdown",
      "metadata": {
        "id": "LAogsBF1Xx8P"
      },
      "source": [
        "---\n",
        "# Section 1: What is differentiation and integration?\n"
      ]
    },
    {
      "cell_type": "code",
      "metadata": {
        "cellView": "form",
        "execution": {
          "iopub.execute_input": "2021-07-01T11:38:35.220565Z",
          "iopub.status.busy": "2021-07-01T11:38:35.217062Z",
          "iopub.status.idle": "2021-07-01T11:38:35.302717Z",
          "shell.execute_reply": "2021-07-01T11:38:35.303433Z"
        },
        "id": "v_4KsEXYXx8Q",
        "outputId": "bf3701f1-a70e-471c-cfd5-aef742e9bea5",
        "colab": {
          "base_uri": "https://localhost:8080/",
          "height": 580,
          "referenced_widgets": [
            "ea37973f412b4fd0a6de11251039c1a5",
            "dce49903abb74aa5a8f7cc41f8e08af6",
            "7590897eff824e21859f6e147c962c79",
            "c52b28aa1c004721a30db205ba448a7e",
            "731b3143a2704de3b77a34f937b19d19",
            "9063e7ac1e794e7e9dda9678944e5aa6"
          ]
        }
      },
      "source": [
        "# @title Video 2: A geometrical interpretation of differentiation and integration\n",
        "from ipywidgets import widgets\n",
        "\n",
        "out2 = widgets.Output()\n",
        "with out2:\n",
        "  from IPython.display import IFrame\n",
        "  class BiliVideo(IFrame):\n",
        "      def __init__(self, id, page=1, width=400, height=300, **kwargs):\n",
        "          self.id=id\n",
        "          src = 'https://player.bilibili.com/player.html?bvid={0}&page={1}'.format(id, page)\n",
        "          super(BiliVideo, self).__init__(src, width, height, **kwargs)\n",
        "\n",
        "  video = BiliVideo(id=\"BV1sU4y1G7Ru\", width=854, height=480, fs=1)\n",
        "  print('Video available at https://www.bilibili.com/video/{0}'.format(video.id))\n",
        "  display(video)\n",
        "\n",
        "out1 = widgets.Output()\n",
        "with out1:\n",
        "  from IPython.display import YouTubeVideo\n",
        "  video = YouTubeVideo(id=\"uQjwr9RQaEs\", width=854, height=480, fs=1, rel=0)\n",
        "  print('Video available at https://youtube.com/watch?v=' + video.id)\n",
        "  display(video)\n",
        "\n",
        "out = widgets.Tab([out1, out2])\n",
        "out.set_title(0, 'Youtube')\n",
        "out.set_title(1, 'Bilibili')\n",
        "\n",
        "display(out)"
      ],
      "execution_count": 5,
      "outputs": [
        {
          "output_type": "display_data",
          "data": {
            "application/vnd.jupyter.widget-view+json": {
              "model_id": "ea37973f412b4fd0a6de11251039c1a5",
              "version_minor": 0,
              "version_major": 2
            },
            "text/plain": [
              "Tab(children=(Output(), Output()), _titles={'0': 'Youtube', '1': 'Bilibili'})"
            ]
          },
          "metadata": {
            "tags": []
          }
        }
      ]
    },
    {
      "cell_type": "markdown",
      "metadata": {
        "id": "ojtcMiGVXx8R"
      },
      "source": [
        "This video covers the definition of differentiation and integration, highlights the geometrical interpretation of each, and introduces the idea of eigenfunctions.\n",
        "\n",
        "<details>\n",
        "<summary> <font color='blue'>Click here for text recap of video </font></summary>\n",
        "\n",
        "Calculus is a part of mathematics concerned with **continous change**. There are two branches of calculus: differential calculus and integral calculus. \n",
        "\n",
        "Differentiation of a function $f(t)$ gives you the derivative of that function $\\frac{d(f(t))}{dt}$. A derivative captures how sensitive a function is to slight changes in the input for different ranges of inputs. Geometrically, the derivative of a function at a certain input is the slope of the function at that input. For example, as you drive, the distance traveled changes continuously with time. The derivative of the distance traveled with respect to time is the velocity of the vehicle at each point in time. The velocity tells you the rate of change of the distance traveled at different points in time. If you have slow velocity (a small derivative), the distance traveled doesn't change much for small changes in time. A high velocity (big derivative) means that the distance traveled changes a lot for small changes in time.\n",
        "\n",
        "The sign of the derivative of a function (or signal) tells whether the signal is increasing or decreasing. For a signal going through changes as a function of time, the derivative will become zero when the signal changes its direction of change (e.g. from increasing to decreasing). That is, at local minimum or maximum values, the slope of the signal will be zero. This property is used in optimizing problems. But we can also use it to find peaks in a signal. \n",
        "\n",
        "Integration can be thought of as the reverse of differentation. If we integrate the velocity with respect to time, we can calculate the distance traveled. By integrating a function, we are basically trying to find functions that would have the original one as their derivative. When we integrate a function, our integral will have an added unknown scalar constant, $C$. \n",
        "For example, if $$ g(t) = 1.5t^2 + 4t - 1$$\n",
        " \n",
        "our integral function $f(t)$ will be:\n",
        "$$ f(t) = \\int g(t) dt = 0.5t^3 + 2t^2 - t + C$$.\n",
        "\n",
        "This constant exists because the derivative of a constant is 0 so we cannot know what the constant should be. This is an indefinite integral. If we compute a definite integral, that is the integral between two limits of the input, we will not have this unknown constant and the integral of a function will capture the area under the curve of that function between those two limits.\n",
        "</details>"
      ]
    },
    {
      "cell_type": "markdown",
      "metadata": {
        "id": "bBflkDHMXx8S"
      },
      "source": [
        "### Interactive Demo 1: Geometrical understanding\n",
        "\n",
        "In the interactive demo below, you can pick different functions to examine in the drop down menu. You can then choose to show the derivative function and/or the integral function. \n",
        "\n",
        "For the integral, we have chosen the unknown constant $C$ such that the integral function at the left x-axis limit is 0 (f(t = -10) = 0). So the integral will reflect the area under the curve starting from that position.\n",
        "\n",
        "For each function:\n",
        "\n",
        "*  Examine just the function first. Discuss and predict what the derivative and integral will look like. Remember that derivative = slope of function, integral = area under curve from t = -10 to that t.\n",
        "*  Check the derivative - does it match your expectations?\n",
        "*  Check the integral - does it match your expectations?\n",
        "\n"
      ]
    },
    {
      "cell_type": "code",
      "metadata": {
        "cellView": "form",
        "execution": {
          "iopub.execute_input": "2021-07-01T11:38:35.341424Z",
          "iopub.status.busy": "2021-07-01T11:38:35.318162Z",
          "iopub.status.idle": "2021-07-01T11:38:35.853973Z",
          "shell.execute_reply": "2021-07-01T11:38:35.854585Z"
        },
        "id": "gswU10Q7Xx8U",
        "outputId": "f4d21a20-04c8-4f3b-ba03-c9f8a0d5cca7",
        "colab": {
          "base_uri": "https://localhost:8080/",
          "height": 416,
          "referenced_widgets": [
            "a3d2199f16b046ae827c21ee1579411d",
            "184f76b61fbd46739725a84302b05f3b",
            "108f34368c144168b85a03baafcf0033",
            "60f04172f7b446d295f6876162c6c940",
            "355714e95f2146c6b9192d27a68d96a2",
            "2ba50ef3b100434f970b20886a638d03",
            "dac2bf9d1a444516afb7e1f6ac24e9e9",
            "fd2fa3758d2e41b0b47fc59753958034",
            "5f281039241f4bd88f48439203bb8f6b",
            "f6ffe915a9584d1e885359977fe24efe",
            "46143cc866504431ba0be382c01c0d47",
            "747e83bc61cc4171b0dd51324a4f28a4",
            "9c08162963844a919d19d854ff446a74"
          ]
        }
      },
      "source": [
        "# @markdown Execute this cell to enable the widget\n",
        "function_options = widgets.Dropdown(\n",
        "    options=['Linear', 'Exponential', 'Sine', 'Sigmoid'],\n",
        "    description='Function',\n",
        "    disabled=False,\n",
        ")\n",
        "\n",
        "derivative = widgets.Checkbox(\n",
        "    value=False,\n",
        "    description='Show derivative',\n",
        "    disabled=False,\n",
        "    indent=False\n",
        ")\n",
        "\n",
        "integral = widgets.Checkbox(\n",
        "    value=False,\n",
        "    description='Show integral',\n",
        "    disabled=False,\n",
        "    indent=False\n",
        ")\n",
        "\n",
        "def on_value_change(change):\n",
        "    derivative.value = False\n",
        "    integral.value = False\n",
        "\n",
        "function_options.observe(on_value_change, names='value')\n",
        "\n",
        "interact(plot_functions, function = function_options, show_derivative = derivative, show_integral = integral);"
      ],
      "execution_count": 6,
      "outputs": [
        {
          "output_type": "display_data",
          "data": {
            "application/vnd.jupyter.widget-view+json": {
              "model_id": "a3d2199f16b046ae827c21ee1579411d",
              "version_minor": 0,
              "version_major": 2
            },
            "text/plain": [
              "interactive(children=(Dropdown(description='Function', options=('Linear', 'Exponential', 'Sine', 'Sigmoid'), v…"
            ]
          },
          "metadata": {
            "tags": []
          }
        }
      ]
    },
    {
      "cell_type": "markdown",
      "metadata": {
        "id": "iCOfn_p-Xx8V"
      },
      "source": [
        "In the demo above you may have noticed that the derivative and integral of the exponential function is same as the exponential function itself.\n",
        "\n",
        "Some functions like the exponential function, when differentiated or integrated, equal a scalar times the same function. This is a similar idea to eigenvectors of a matrix being those that, when multipled by the matrix, equal a scalar times themselves, as you saw yesterday!\n",
        "\n",
        "When \n",
        "\n",
        "\\begin{align*}\n",
        "\\frac{d(f(t)}{dt} = a\\cdot f(t), \n",
        "\\end{align*}\n",
        "\n",
        "we say that $f(t)$ is an **eigenfunction** for derivative operator, where $a$ is a scaling factor. Similarly, when \n",
        "\n",
        "\\begin{align*}\n",
        "\\int f(t)dt = a\\cdot f(t), \n",
        "\\end{align*}\n",
        "\n",
        "we say that $f(t)$ is an **eigenfunction** for integral operator.\n",
        "\n",
        "As you can imagine, working with eigenfunctions can make mathematical analysis easy."
      ]
    },
    {
      "cell_type": "markdown",
      "metadata": {
        "id": "cUjD6sL_Xx8V"
      },
      "source": [
        "---\n",
        "# Section 2: Analytical & Numerical Differentiation"
      ]
    },
    {
      "cell_type": "code",
      "metadata": {
        "cellView": "form",
        "execution": {
          "iopub.execute_input": "2021-07-01T11:38:35.866679Z",
          "iopub.status.busy": "2021-07-01T11:38:35.863856Z",
          "iopub.status.idle": "2021-07-01T11:38:35.953299Z",
          "shell.execute_reply": "2021-07-01T11:38:35.953726Z"
        },
        "id": "pqpTiYndXx8W",
        "outputId": "018da0a7-25b3-484c-8246-46e4877d3e55",
        "colab": {
          "base_uri": "https://localhost:8080/",
          "height": 580,
          "referenced_widgets": [
            "1c6c17e163ab42109d21853cf5f8eb68",
            "4ad2b51f55d94a059361d011f7a1133a",
            "9dc8526846f94f3680d11e1d5c90f6e7",
            "180bb9f2a5084f8b954addb2d6acf989",
            "11fcb87a71bf41b8892a43bbb5dbcc26",
            "f8b8c4e86952465a8510d8f0e9cdb6af"
          ]
        }
      },
      "source": [
        "# @title Video 3: Differentiation\n",
        "from ipywidgets import widgets\n",
        "\n",
        "out2 = widgets.Output()\n",
        "with out2:\n",
        "  from IPython.display import IFrame\n",
        "  class BiliVideo(IFrame):\n",
        "      def __init__(self, id, page=1, width=400, height=300, **kwargs):\n",
        "          self.id=id\n",
        "          src = 'https://player.bilibili.com/player.html?bvid={0}&page={1}'.format(id, page)\n",
        "          super(BiliVideo, self).__init__(src, width, height, **kwargs)\n",
        "\n",
        "  video = BiliVideo(id=\"BV14g41137d5\", width=854, height=480, fs=1)\n",
        "  print('Video available at https://www.bilibili.com/video/{0}'.format(video.id))\n",
        "  display(video)\n",
        "\n",
        "out1 = widgets.Output()\n",
        "with out1:\n",
        "  from IPython.display import YouTubeVideo\n",
        "  video = YouTubeVideo(id=\"sHogZISXGuQ\", width=854, height=480, fs=1, rel=0)\n",
        "  print('Video available at https://youtube.com/watch?v=' + video.id)\n",
        "  display(video)\n",
        "\n",
        "out = widgets.Tab([out1, out2])\n",
        "out.set_title(0, 'Youtube')\n",
        "out.set_title(1, 'Bilibili')\n",
        "\n",
        "display(out)"
      ],
      "execution_count": 7,
      "outputs": [
        {
          "output_type": "display_data",
          "data": {
            "application/vnd.jupyter.widget-view+json": {
              "model_id": "1c6c17e163ab42109d21853cf5f8eb68",
              "version_minor": 0,
              "version_major": 2
            },
            "text/plain": [
              "Tab(children=(Output(), Output()), _titles={'0': 'Youtube', '1': 'Bilibili'})"
            ]
          },
          "metadata": {
            "tags": []
          }
        }
      ]
    },
    {
      "cell_type": "markdown",
      "metadata": {
        "id": "DnD9-UrXXx8W"
      },
      "source": [
        "\n",
        "In this section, we will delve into how we actually find the derivative of a function, both analytically and numerically.\n"
      ]
    },
    {
      "cell_type": "markdown",
      "metadata": {
        "id": "bnAfex9YXx8X"
      },
      "source": [
        "## Section 2.1: Analytical Differentiation\n",
        "\n",
        "*Estimated timing to here from start of tutorial: 20 min*\n",
        "\n",
        "When we find the derivative analytically, we are finding the exact formula for the derivative function. \n",
        "\n",
        "To do this, instead of having to do some fancy math every time, we can often consult [an online resource](https://en.wikipedia.org/wiki/Differentiation_rules) for a list of common derivatives, in this case our trusty friend Wikipedia.\n",
        "\n",
        "If I told you to find the derivative of $f(t) = t^3$, you could consult that site and find in Section 2.1, that if $f(t) = t^n$, then $\\frac{d(f(t))}{dt} = nt^{n-1}$. So you would be able to tell me that the derivative of $f(t) = t^3$ is $\\frac{d(f(t))}{dt} = 3t^{2}$.\n",
        "\n",
        "This list of common derivatives often contains only very simple functions. Luckily, as we'll see in the next two sections, we can often break the derivative of a complex function down into the derivatives of more simple components."
      ]
    },
    {
      "cell_type": "markdown",
      "metadata": {
        "id": "ysMm2IDsXx8X"
      },
      "source": [
        "### Section 2.1.1: Product Rule\n",
        "Sometimes we encounter functions which are the product of two functions that both depend on the variable. \n",
        "How do we take the derivative of such functions? For this we use the [Product Rule](https://en.wikipedia.org/wiki/Product_rule).\n",
        "\n",
        "\\begin{align}\n",
        "f(t) = u(t)\\cdot v(t)\\\\\n",
        "\\frac{d(f(t))}{dt} = v\\cdot \\frac{du}{dt} + u\\cdot \\frac{dv}{dt}\\\\\n",
        "\\end{align}\n"
      ]
    },
    {
      "cell_type": "markdown",
      "metadata": {
        "id": "efarc9QgXx8X"
      },
      "source": [
        "#### Coding Exercise 2.1.1: Derivative of the postsynaptic potential alpha function \n",
        "\n",
        "Let's use the product rule to get the derivative of the post-synaptic potential alpha function. As we saw in Video 3, the shape of the postsynaptic potential is given by the so called alpha function:\n",
        "\n",
        "\\begin{align*}\n",
        "f(t) = t \\cdot exp(-\\frac{t}{\\tau})\n",
        "\\end{align*}\n",
        "\n",
        "Here $f(t)$ is a product of $t$ and $exp(-\\frac{t}{\\tau})$. So we can have $u(t) = t$ and $v(t) = exp(-\\frac{t}{\\tau})$ and use the product rule! \n",
        "\n",
        "We have defined $u(t)$ and $v(t)$ in the code below, in terms of the variable $t$ which is an array of time steps from 0 to 10. Define $\\frac{du}{dt}$ and $\\frac{dv}{dt}$, the compute the full derivative of the alpha function using the product rule. You can always consult wikipedia to figure out $\\frac{du}{dt}$ and $\\frac{dv}{dt}$!"
      ]
    },
    {
      "cell_type": "code",
      "metadata": {
        "execution": {
          "iopub.execute_input": "2021-07-01T11:38:35.966247Z",
          "iopub.status.busy": "2021-07-01T11:38:35.965760Z",
          "iopub.status.idle": "2021-07-01T11:38:36.079076Z",
          "shell.execute_reply": "2021-07-01T11:38:36.078546Z"
        },
        "id": "GlqJXlDYXx8X",
        "outputId": "4e7374c6-062e-4841-de9f-785223320cd4",
        "colab": {
          "base_uri": "https://localhost:8080/",
          "height": 236
        }
      },
      "source": [
        "########################################################################\n",
        "## TODO for students\n",
        "## Complete all ... in code below and remove\n",
        "raise NotImplementedError(\"Calculate the derivatives\")\n",
        "########################################################################\n",
        "\n",
        "# Define time, time constant\n",
        "t = np.arange(0, 10, .1)\n",
        "tau = 0.5\n",
        "\n",
        "# Compute alpha function\n",
        "f = t * np.exp(-t/tau)\n",
        "\n",
        "# Define u(t), v(t)\n",
        "u_t = t\n",
        "v_t = np.exp(-t/tau)\n",
        "\n",
        "# Define du/dt, dv/dt\n",
        "du_dt = ...\n",
        "dv_dt = ...\n",
        "\n",
        "# Define full derivative\n",
        "df_dt = ...\n",
        "\n",
        "# Visualize\n",
        "plot_alpha_func(t, f, df_dt)"
      ],
      "execution_count": 8,
      "outputs": [
        {
          "output_type": "error",
          "ename": "NotImplementedError",
          "evalue": "ignored",
          "traceback": [
            "\u001b[0;31m---------------------------------------------------------------------------\u001b[0m",
            "\u001b[0;31mNotImplementedError\u001b[0m                       Traceback (most recent call last)",
            "\u001b[0;32m<ipython-input-8-821b545d1219>\u001b[0m in \u001b[0;36m<module>\u001b[0;34m()\u001b[0m\n\u001b[1;32m      2\u001b[0m \u001b[0;31m## TODO for students\u001b[0m\u001b[0;34m\u001b[0m\u001b[0;34m\u001b[0m\u001b[0;34m\u001b[0m\u001b[0m\n\u001b[1;32m      3\u001b[0m \u001b[0;31m## Complete all ... in code below and remove\u001b[0m\u001b[0;34m\u001b[0m\u001b[0;34m\u001b[0m\u001b[0;34m\u001b[0m\u001b[0m\n\u001b[0;32m----> 4\u001b[0;31m \u001b[0;32mraise\u001b[0m \u001b[0mNotImplementedError\u001b[0m\u001b[0;34m(\u001b[0m\u001b[0;34m\"Calculate the derivatives\"\u001b[0m\u001b[0;34m)\u001b[0m\u001b[0;34m\u001b[0m\u001b[0;34m\u001b[0m\u001b[0m\n\u001b[0m\u001b[1;32m      5\u001b[0m \u001b[0;31m########################################################################\u001b[0m\u001b[0;34m\u001b[0m\u001b[0;34m\u001b[0m\u001b[0;34m\u001b[0m\u001b[0m\n\u001b[1;32m      6\u001b[0m \u001b[0;34m\u001b[0m\u001b[0m\n",
            "\u001b[0;31mNotImplementedError\u001b[0m: Calculate the derivatives"
          ]
        }
      ]
    },
    {
      "cell_type": "markdown",
      "metadata": {
        "execution": {
          "iopub.execute_input": "2021-07-01T11:38:36.086853Z",
          "iopub.status.busy": "2021-07-01T11:38:36.083799Z",
          "iopub.status.idle": "2021-07-01T11:38:36.483908Z",
          "shell.execute_reply": "2021-07-01T11:38:36.484333Z"
        },
        "id": "2ba8TCCvXx8Y"
      },
      "source": [
        "[*Click for solution*](https://github.com/NeuromatchAcademy/course-content/tree/master//tutorials/W0D4_Calculus/solutions/W0D4_Tutorial1_Solution_636667ff.py)\n",
        "\n",
        "*Example output:*\n",
        "\n",
        "<img alt='Solution hint' align='left' width=1687.0 height=607.0 src=https://raw.githubusercontent.com/NeuromatchAcademy/course-content/master/tutorials/W0D4_Calculus/static/W0D4_Tutorial1_Solution_636667ff_0.png>\n",
        "\n"
      ]
    },
    {
      "cell_type": "markdown",
      "metadata": {
        "id": "vHnoT3oFXx8Y"
      },
      "source": [
        "### Section 2.1.2: Chain Rule\n",
        "Many times we encounter situations in which the variable $a$ is changing with time ($t$) and affecting another variable $r$. How can we estimate the derivative of $r$ with respect to $a$ i.e. $\\frac{dr}{da} = ?$\n",
        "\n",
        "To calculate $\\frac{dr}{da}$ we use the [Chain Rule](https://en.wikipedia.org/wiki/Chain_rule).\n",
        "\n",
        "\\begin{align}\n",
        "\\frac{dr}{da} = \\frac{dr}{dt}\\cdot\\frac{dt}{da}\n",
        "\\end{align}\n",
        "\n",
        "That is, we calculate the derivative of both variables with respect to t and divide that derivative of $r$ by that  derivative of $a$. \n",
        "\n",
        "We can also use this formula to simplify taking derivatives of complex functions! We can make an arbitrary function t so that we can compute more simple derivatives and multiply, as we will see in this exercise.\n",
        "\n"
      ]
    },
    {
      "cell_type": "markdown",
      "metadata": {
        "id": "zFlfN_B9Xx8Y"
      },
      "source": [
        "#### Math Exercise 2.1.2: Chain Rule\n",
        "\n",
        "Let's say that:\n",
        "$$ r(a) = e^{a^4 + 1} $$\n",
        "\n",
        "What is $\\frac{dr}{da}$? This is a more complex function so we can't simply consult a table of common derivatives. Can you use the chain rule to help?\n",
        "\n",
        "Hint: we didn't define t but you could set t equal to the function in the exponent."
      ]
    },
    {
      "cell_type": "markdown",
      "metadata": {
        "execution": {
          "iopub.execute_input": "2021-07-01T11:38:36.488844Z",
          "iopub.status.busy": "2021-07-01T11:38:36.488327Z",
          "iopub.status.idle": "2021-07-01T11:38:36.493988Z",
          "shell.execute_reply": "2021-07-01T11:38:36.493266Z"
        },
        "id": "cn2NuKOfXx8Z"
      },
      "source": [
        "[*Click for solution*](https://github.com/NeuromatchAcademy/course-content/tree/master//tutorials/W0D4_Calculus/solutions/W0D4_Tutorial1_Solution_a0e42694.py)\n",
        "\n"
      ]
    },
    {
      "cell_type": "markdown",
      "metadata": {
        "id": "29SQlQuWXx8Z"
      },
      "source": [
        "### Section 2.2.3: Derivatives in Python using Sympy\n",
        "\n",
        "There is a useful Python library for getting the analytical derivatives of functions: Sympy. We actually used this in Interactive Demo 1, under the hood.\n",
        "\n",
        "See the following cell for an example of setting up a sympy function and finding the derivative."
      ]
    },
    {
      "cell_type": "code",
      "metadata": {
        "execution": {
          "iopub.execute_input": "2021-07-01T11:38:36.497767Z",
          "iopub.status.busy": "2021-07-01T11:38:36.495933Z",
          "iopub.status.idle": "2021-07-01T11:38:36.602822Z",
          "shell.execute_reply": "2021-07-01T11:38:36.602381Z"
        },
        "id": "PeMxtQsJXx8Z"
      },
      "source": [
        "# For sympy we first define our symbolic variables\n",
        "f, t = sp.symbols('f, t')\n",
        "\n",
        "# Function definition (sigmoid)\n",
        "f = 1/(1 + sp.exp(-(t-5)))\n",
        "\n",
        "# Get the derivative\n",
        "diff_f = sp.diff(f)\n",
        "\n",
        "# Print the resulting function\n",
        "print('Derivative of', f, 'is ', diff_f)"
      ],
      "execution_count": null,
      "outputs": []
    },
    {
      "cell_type": "markdown",
      "metadata": {
        "id": "LUMadF-AXx8Z"
      },
      "source": [
        "## Section 2.2: Numerical Differentiation\n",
        "\n",
        "*Estimated timing to here from start of tutorial: 30 min*\n",
        "\n",
        "Formally, the derivative of a function $\\mathcal{f}(x)$ at any value $a$ is given by the finite difference formula (FD): \n",
        "\n",
        "\\begin{align*}\n",
        "FD = \\frac{f(a+h) - f(a)}{h}\n",
        "\\end{align*}\n",
        "\n",
        "As $h\\rightarrow 0$, the FD approaches the actual value of the derivative. Let's check this.\n",
        "\n",
        "*Note that the numerical estimate of the derivative will result\n",
        "in a time series whose length is one short of the original time series.*"
      ]
    },
    {
      "cell_type": "markdown",
      "metadata": {
        "id": "-t3rtvnvXx8a"
      },
      "source": [
        "### Interactive Demo 2.2: Numerical Differentiation of the Sine Function\n",
        "\n",
        "Below, we find the numerical derivative of the sine function for different values of $h$, and and compare the result the analytical solution.\n",
        "\n",
        "- What values of h result in more accurate numerical derivatives?"
      ]
    },
    {
      "cell_type": "code",
      "metadata": {
        "cellView": "form",
        "execution": {
          "iopub.execute_input": "2021-07-01T11:38:36.610703Z",
          "iopub.status.busy": "2021-07-01T11:38:36.610199Z",
          "iopub.status.idle": "2021-07-01T11:38:36.987653Z",
          "shell.execute_reply": "2021-07-01T11:38:36.987214Z"
        },
        "id": "ov4rLz9CXx8u"
      },
      "source": [
        "# @markdown *Execute this cell to enable the widget.*\n",
        "def numerical_derivative_demo(h = 0.2):\n",
        "  # Now lets create a sequence of numbers which change according to the sine function\n",
        "  dt = 0.01\n",
        "  tx = np.arange(-10, 10, dt)\n",
        "  sine_fun = np.sin(tx)\n",
        "\n",
        "  # symbolic diffrentiation tells us that the derivative of sin(t) is cos(t)\n",
        "  cos_fun = np.cos(tx)\n",
        "\n",
        "  # Numerical derivative using difference formula\n",
        "  n_tx = np.arange(-10,10,h) # create new time axis\n",
        "  n_sine_fun = np.sin(n_tx) # calculate the sine function on the new time axis\n",
        "  sine_diff = (n_sine_fun[1:] - n_sine_fun[0:-1]) / h\n",
        "\n",
        "  fig = plt.figure()\n",
        "  ax = plt.subplot(111)\n",
        "  plt.plot(tx, sine_fun, label='sine function')\n",
        "  plt.plot(tx, cos_fun, label='analytical derivative of sine')\n",
        "\n",
        "  with plt.xkcd():\n",
        "    # notice that numerical derivative will have one element less\n",
        "    plt.plot(n_tx[0:-1], sine_diff, label='numerical derivative of sine')\n",
        "    plt.xlim([-10, 10])\n",
        "    plt.xlabel('Time (au)')\n",
        "    plt.ylabel('f(x) or df(x)/dt')\n",
        "    ax.legend(loc='upper center', bbox_to_anchor=(0.5, 1.05),\n",
        "              ncol=3, fancybox=True)\n",
        "    plt.show()\n",
        "\n",
        "_ = widgets.interact(numerical_derivative_demo, h = (0.01, 0.5, .02))"
      ],
      "execution_count": null,
      "outputs": []
    },
    {
      "cell_type": "markdown",
      "metadata": {
        "execution": {
          "iopub.execute_input": "2021-07-01T11:38:36.994193Z",
          "iopub.status.busy": "2021-07-01T11:38:36.993691Z",
          "iopub.status.idle": "2021-07-01T11:38:36.998237Z",
          "shell.execute_reply": "2021-07-01T11:38:36.998985Z"
        },
        "id": "GqGZu-Y2Xx8z"
      },
      "source": [
        "[*Click for solution*](https://github.com/NeuromatchAcademy/course-content/tree/master//tutorials/W0D4_Calculus/solutions/W0D4_Tutorial1_Solution_36cd3b93.py)\n",
        "\n"
      ]
    },
    {
      "cell_type": "markdown",
      "metadata": {
        "id": "C_RpWC_MXx9O"
      },
      "source": [
        "## Section 2.3: Transfer Function and Gain of a Neuron\n",
        "\n",
        "*Estimated timing to here from start of tutorial: 34 min*\n",
        "\n",
        "When we inject a constant current (DC) in a neuron, its firing rate changes as a function of strength of the injected current. This is called the **input-output transfer function** or just the *transfer function* or *I/O Curve* of the neuron. For most neurons this can be approximated by a sigmoid function e.g.\n",
        "\n",
        "\\begin{align}\n",
        "rate(I) = \\frac{1}{1+\\text{e}^{-a*(I-\\theta)}} - \\frac{1}{exp(a*\\theta)} + \\eta\n",
        "\\end{align}\n",
        "\n",
        "where $I$ is injected current, $rate$ is the neuron firing rate and $\\eta$ is noise (Gaussian noise with zero mean and $\\sigma$ standard deviation).\n",
        "\n",
        "*You will visit this equation in a different context in Week 3*\n",
        "\n",
        "The slope of a neurons input-output transfer function ($\\frac{d(r(I)}{dI}$) is called the **gain** of the neuron, as it tells how the neuron output will change if the input is changed. In other words, the slope of the transfer function tells us in which range of inputs the neuron output is most sensitive to changes in its input. \n"
      ]
    },
    {
      "cell_type": "markdown",
      "metadata": {
        "id": "-BLDi7CmXx9P"
      },
      "source": [
        "### Interactive Demo 2.3: Calculating the Transfer Function and Gain of a Neuron\n",
        "\n",
        "In the following demo, you can estimate the gain of the following neuron transfer function using numerical differentiaton. We will use our timestep as h. See the cell below for a function that computes the rate via the fomula above and then the gain using numerical differentiation. In the following cell, you can play with the parameters $a$ and $\\theta$ to change the shape of the transfer functon (and see the resulting gain function). You can also set $I_{mean}$ to see how the slope is computed for that value of I. In the left plot, the red vertical lines are the two values of the current being used to compute the slope, while the blue lines point to the corresponding ouput firing rates.\n",
        "\n",
        "\n",
        "Change the parameters of the neuron transfer function (i.e. $a$ and $\\theta$) and see if you can predict the value of $I$ for which the neuron has maximal slope and which parameter determines the peak value of the gain.\n",
        "\n",
        "\n",
        "1.   Ensure you understand how the right plot relates to the left!\n",
        "2.   How does $\\theta$ affect the transfer function and gain?\n",
        "3.   How does $a$ affect the transfer function and gain?\n",
        "\n"
      ]
    },
    {
      "cell_type": "code",
      "metadata": {
        "execution": {
          "iopub.execute_input": "2021-07-01T11:38:37.005107Z",
          "iopub.status.busy": "2021-07-01T11:38:37.004521Z",
          "iopub.status.idle": "2021-07-01T11:38:37.007575Z",
          "shell.execute_reply": "2021-07-01T11:38:37.006945Z"
        },
        "id": "tefgTGb-Xx9P"
      },
      "source": [
        "def compute_rate_and_gain(I, a, theta, current_timestep):\n",
        "  \"\"\" Compute rate and gain of neuron based on parameters\n",
        "\n",
        "  Args:\n",
        "    I (ndarray): different possible values of the current\n",
        "    a (scalar): parameter of the transfer function\n",
        "    theta (scalar): parameter of the transfer function\n",
        "    current_timestep (scalar): the time we're using to take steps\n",
        "\n",
        "  Returns:\n",
        "    (ndarray, ndarray): rate and gain for each possible value of I\n",
        "  \"\"\"\n",
        "\n",
        "  # Compute rate\n",
        "  rate = (1+np.exp(-a*(I-theta)))**-1 - (1+np.exp(a*theta))**-1\n",
        "\n",
        "  # Compute gain using a numerical derivative\n",
        "  gain = (rate[1:] - rate[0:-1])/current_timestep\n",
        "\n",
        "  return rate, gain"
      ],
      "execution_count": null,
      "outputs": []
    },
    {
      "cell_type": "code",
      "metadata": {
        "cellView": "form",
        "execution": {
          "iopub.execute_input": "2021-07-01T11:38:37.048744Z",
          "iopub.status.busy": "2021-07-01T11:38:37.047921Z",
          "iopub.status.idle": "2021-07-01T11:38:37.474052Z",
          "shell.execute_reply": "2021-07-01T11:38:37.473483Z"
        },
        "id": "v7GDnbE1Xx9P"
      },
      "source": [
        "# @markdown Execute this cell to enable the widget\n",
        "\n",
        "def plot_rate_and_gain(a, theta, I_mean):\n",
        "\n",
        "  current_timestep = 0.1\n",
        "\n",
        "  # Compute I\n",
        "  I = np.arange(0, 8, current_timestep)\n",
        "\n",
        "  rate, gain = compute_rate_and_gain(I, a, theta, current_timestep)\n",
        "  I_1 = I_mean - current_timestep/2\n",
        "  rate_1 = (1+np.exp(-a*(I_1-theta)))**-1 - (1+np.exp(a*theta))**-1\n",
        "  I_2 = I_mean + current_timestep/2\n",
        "  rate_2 = (1+np.exp(-a*(I_2-theta)))**-1 - (1+np.exp(a*theta))**-1\n",
        "\n",
        "  input_range = I_2-I_1\n",
        "  output_range = rate_2 - rate_1\n",
        "\n",
        "  # Visualize rate and gain\n",
        "  plt.subplot(1,2,1)\n",
        "  plt.plot(I,rate)\n",
        "  plt.plot([I_1,I_1],[0, rate_1],color='r')\n",
        "  plt.plot([0,I_1],[rate_1, rate_1],color='b')\n",
        "  plt.plot([I_2,I_2],[0, rate_2],color='r')\n",
        "  plt.plot([0,I_2],[rate_2, rate_2],color='b')\n",
        "  plt.xlim([0, 8])\n",
        "  low, high = plt.ylim()\n",
        "  plt.ylim([0, high])\n",
        "\n",
        "  plt.xlabel('Injected current (au)')\n",
        "  plt.ylabel('Output firing rate (normalized)')\n",
        "  plt.title('Transfer function')\n",
        "\n",
        "  plt.text(2, 1.3, 'Output-Input Ratio =' + str(np.round(1000*output_range/input_range)/1000), style='italic',\n",
        "      bbox={'facecolor': 'red', 'alpha': 0.5, 'pad': 10})\n",
        "  plt.subplot(1,2,2)\n",
        "  plt.plot(I[0:-1], gain)\n",
        "  plt.plot([I_mean, I_mean],[0,0.6],color='r')\n",
        "  plt.xlabel('Injected current (au)')\n",
        "  plt.ylabel('Gain')\n",
        "  plt.title('Gain')\n",
        "  plt.xlim([0, 8])\n",
        "  low, high = plt.ylim()\n",
        "  plt.ylim([0, high])\n",
        "\n",
        "_ = widgets.interact(plot_rate_and_gain, a = (0.5, 2.0, .02), theta=(1.2,4.0,0.1), I_mean= (0.5,8.0,0.1))"
      ],
      "execution_count": null,
      "outputs": []
    },
    {
      "cell_type": "markdown",
      "metadata": {
        "execution": {
          "iopub.execute_input": "2021-07-01T11:38:37.478914Z",
          "iopub.status.busy": "2021-07-01T11:38:37.478390Z",
          "iopub.status.idle": "2021-07-01T11:38:37.482787Z",
          "shell.execute_reply": "2021-07-01T11:38:37.482206Z"
        },
        "id": "lvj9O6uKXx9R"
      },
      "source": [
        "[*Click for solution*](https://github.com/NeuromatchAcademy/course-content/tree/master//tutorials/W0D4_Calculus/solutions/W0D4_Tutorial1_Solution_6ae0b0ff.py)\n",
        "\n"
      ]
    },
    {
      "cell_type": "markdown",
      "metadata": {
        "id": "6qoXRymbXx9R"
      },
      "source": [
        "# Section 3: Functions of Multiple Variables\n",
        "\n",
        "*Estimated timing to here from start of tutorial: 44 min*\n",
        "\n",
        "\n"
      ]
    },
    {
      "cell_type": "code",
      "metadata": {
        "cellView": "form",
        "execution": {
          "iopub.execute_input": "2021-07-01T11:38:37.496606Z",
          "iopub.status.busy": "2021-07-01T11:38:37.494945Z",
          "iopub.status.idle": "2021-07-01T11:38:37.580084Z",
          "shell.execute_reply": "2021-07-01T11:38:37.577231Z"
        },
        "id": "ktNPK1_LXx9S"
      },
      "source": [
        "# @title Video 4: Functions of multiple variables\n",
        "from ipywidgets import widgets\n",
        "\n",
        "out2 = widgets.Output()\n",
        "with out2:\n",
        "  from IPython.display import IFrame\n",
        "  class BiliVideo(IFrame):\n",
        "      def __init__(self, id, page=1, width=400, height=300, **kwargs):\n",
        "          self.id=id\n",
        "          src = 'https://player.bilibili.com/player.html?bvid={0}&page={1}'.format(id, page)\n",
        "          super(BiliVideo, self).__init__(src, width, height, **kwargs)\n",
        "\n",
        "  video = BiliVideo(id=\"BV1Ly4y1M77D\", width=854, height=480, fs=1)\n",
        "  print('Video available at https://www.bilibili.com/video/{0}'.format(video.id))\n",
        "  display(video)\n",
        "\n",
        "out1 = widgets.Output()\n",
        "with out1:\n",
        "  from IPython.display import YouTubeVideo\n",
        "  video = YouTubeVideo(id=\"Mp_uNNNiQAI\", width=854, height=480, fs=1, rel=0)\n",
        "  print('Video available at https://youtube.com/watch?v=' + video.id)\n",
        "  display(video)\n",
        "\n",
        "out = widgets.Tab([out1, out2])\n",
        "out.set_title(0, 'Youtube')\n",
        "out.set_title(1, 'Bilibili')\n",
        "\n",
        "display(out)"
      ],
      "execution_count": null,
      "outputs": []
    },
    {
      "cell_type": "markdown",
      "metadata": {
        "id": "kH7tevKXXx9U"
      },
      "source": [
        "This video covers what partial derivatives are.\n",
        "\n",
        "<details>\n",
        "<summary> <font color='blue'>Click here for text recap of video </font></summary>\n",
        "\n",
        "In the previous section, you looked at function of single variable $t$ or $x$. In most cases, we encounter functions of multiple variables. For example, in the brain, the firing rate of a neuron is a function of both excitatory and inhibitory input rates. In the following, we will look into how to calculate derivatives of such functions.\n",
        "\n",
        "When we take the derrivative of a multivariable function with respect to one of the variables it is called the **partial derivative**. For example if we have a function:\n",
        "\n",
        "\\begin{align}\n",
        "f(x,y) = x^2 + 2xy + y^2\n",
        "\\end{align}\n",
        "\n",
        "The we can define the partial derivatives as\n",
        "\n",
        "\\begin{align}\n",
        "\\frac{\\partial(f(x,y))}{\\partial x} = 2x + 2y + 0 \\\\\\\\\n",
        "\\frac{\\partial(f(x,y))}{\\partial y} = 0 + 2x + 2y\n",
        "\\end{align}\n",
        "\n",
        "In the above, the derivative of the last term ($y^2$) with respect to $x$ is zero because it does not change with respect to $x$. Similarly, the derivative of $x^2$ with respect to $y$ is also zero.\n",
        "</details>\n",
        "\n"
      ]
    },
    {
      "cell_type": "markdown",
      "metadata": {
        "id": "ndtHuXQBXx9W"
      },
      "source": [
        "Just as with the derivatives we saw earlier, you can get partial derivatives through either an analytical method (finding an exact equation) or a numerical method (approximating)."
      ]
    },
    {
      "cell_type": "markdown",
      "metadata": {
        "id": "kJqUZsarXx9X"
      },
      "source": [
        "### Interactive Demo 3: Visualize partial derivatives\n",
        "\n",
        "In the demo below, you can input any function of x and y and then visualize both the function and partial derivatives. \n",
        "\n",
        "We visualized the 2-dimensional function as a surface plot in which the values of the function are rendered as color. Yellow represents a high value and blue represents a low value. The height of the surface also shows the numerical value of the function. A more complete description of 2D surface plots and why we need them is located in Bonus Section 1.1. The first plot is that of our function. And the two bottom plots are the derivative surfaces with respect to $x$ and $y$ variables.\n",
        "\n",
        "1.   Ensure you understand how the plots relate to each other - if not, review the above material\n",
        "2.   Can you come up with a function where the partial derivative with respect to x will be a linear plane and the derivative with respect to y will be more curvy?\n",
        "3.   What happens to the partial derivatives if there are no terms involving multiplying x and y together?\n",
        "\n"
      ]
    },
    {
      "cell_type": "code",
      "metadata": {
        "cellView": "form",
        "execution": {
          "iopub.execute_input": "2021-07-01T11:38:37.587884Z",
          "iopub.status.busy": "2021-07-01T11:38:37.587086Z",
          "iopub.status.idle": "2021-07-01T11:38:38.852759Z",
          "shell.execute_reply": "2021-07-01T11:38:38.852249Z"
        },
        "id": "xPjdLW1gXx9X"
      },
      "source": [
        "# @markdown Execute this widget to enable the demo\n",
        "\n",
        "# Let's use sympy to calculate Partial derivatives of a function of 2-variables\n",
        "@interact(f2d_string = 'x**2 + 2*x*y + y**2')\n",
        "def plot_partial_derivs(f2d_string):\n",
        "  f, x, y = sp.symbols('f, x, y')\n",
        "\n",
        "  f2d = eval(f2d_string)\n",
        "  f2d_dx = sp.diff(f2d,x)\n",
        "  f2d_dy = sp.diff(f2d,y)\n",
        "\n",
        "  print('Partial derivative of ', f2d, 'with respect to x is', f2d_dx)\n",
        "  print('Partial derivative of ', f2d, 'with respect to y is', f2d_dy)\n",
        "\n",
        "  p1 = sp.plotting.plot3d(f2d, (x, -5, 5), (y, -5, 5),show=True,xlabel='x', ylabel='y', zlabel='f(x,y)',title='Our function')\n",
        "\n",
        "  p2 = sp.plotting.plot3d(f2d_dx, (x, -5, 5), (y, -5, 5),show=True,xlabel='x', ylabel='y', zlabel='df(x,y)/dx',title='Derivative w.r.t. x')\n",
        "\n",
        "  p3 = sp.plotting.plot3d(f2d_dy, (x, -5, 5), (y, -5, 5),show=True,xlabel='x', ylabel='y', zlabel='df(x,y)/dy',title='Derivative w.r.t. y')"
      ],
      "execution_count": null,
      "outputs": []
    },
    {
      "cell_type": "markdown",
      "metadata": {
        "execution": {
          "iopub.execute_input": "2021-07-01T11:38:38.871572Z",
          "iopub.status.busy": "2021-07-01T11:38:38.870446Z",
          "iopub.status.idle": "2021-07-01T11:38:38.873347Z",
          "shell.execute_reply": "2021-07-01T11:38:38.873780Z"
        },
        "id": "w2YcNXi2Xx9X"
      },
      "source": [
        "[*Click for solution*](https://github.com/NeuromatchAcademy/course-content/tree/master//tutorials/W0D4_Calculus/solutions/W0D4_Tutorial1_Solution_8a586322.py)\n",
        "\n"
      ]
    },
    {
      "cell_type": "markdown",
      "metadata": {
        "id": "6lGNRHDjXx9Y"
      },
      "source": [
        "To see an application of the numerical calculation of partial derivatives to understand a neuron driven by excitatory and inhibitory inputs, see Bonus Section 1!  \n",
        "\n",
        "We will use the partial derivative several times in the course. For example partial derivative are used the calculate the Jacobian of a system of differential equations. The Jacobian is used to determine the dynamics and stability of a system. This will be introduced in the second week while studying the dynamics of excitatory and inhibitory population interactions. "
      ]
    },
    {
      "cell_type": "markdown",
      "metadata": {
        "id": "iVWFE-5CXx9Y"
      },
      "source": [
        "---\n",
        "# Section 4: Numerical Integration\n"
      ]
    },
    {
      "cell_type": "code",
      "metadata": {
        "cellView": "form",
        "execution": {
          "iopub.execute_input": "2021-07-01T11:38:38.884901Z",
          "iopub.status.busy": "2021-07-01T11:38:38.880980Z",
          "iopub.status.idle": "2021-07-01T11:38:38.964956Z",
          "shell.execute_reply": "2021-07-01T11:38:38.961201Z"
        },
        "id": "w29BKpI-Xx9Z"
      },
      "source": [
        "# @title Video 5: Numerical Integration\n",
        "from ipywidgets import widgets\n",
        "\n",
        "out2 = widgets.Output()\n",
        "with out2:\n",
        "  from IPython.display import IFrame\n",
        "  class BiliVideo(IFrame):\n",
        "      def __init__(self, id, page=1, width=400, height=300, **kwargs):\n",
        "          self.id=id\n",
        "          src = 'https://player.bilibili.com/player.html?bvid={0}&page={1}'.format(id, page)\n",
        "          super(BiliVideo, self).__init__(src, width, height, **kwargs)\n",
        "\n",
        "  video = BiliVideo(id=\"BV1p54y1H7zt\", width=854, height=480, fs=1)\n",
        "  print('Video available at https://www.bilibili.com/video/{0}'.format(video.id))\n",
        "  display(video)\n",
        "\n",
        "out1 = widgets.Output()\n",
        "with out1:\n",
        "  from IPython.display import YouTubeVideo\n",
        "  video = YouTubeVideo(id=\"cT0_CbD_h9Q\", width=854, height=480, fs=1, rel=0)\n",
        "  print('Video available at https://youtube.com/watch?v=' + video.id)\n",
        "  display(video)\n",
        "\n",
        "out = widgets.Tab([out1, out2])\n",
        "out.set_title(0, 'Youtube')\n",
        "out.set_title(1, 'Bilibili')\n",
        "\n",
        "display(out)"
      ],
      "execution_count": null,
      "outputs": []
    },
    {
      "cell_type": "markdown",
      "metadata": {
        "id": "J_lMvR0SXx9Z"
      },
      "source": [
        "This video covers numerical integration and specifically Riemann sums.\n",
        "\n",
        "<details>\n",
        "<summary> <font color='blue'>Click here for text recap of video </font></summary>\n",
        "\n",
        "Geometrically, integration is the area under the curve. This interpretation gives two formal ways to calculate the integral of a function numerically. \n",
        "\n",
        "**[Riemann sum](https://en.wikipedia.org/wiki/Riemann_sum)**: \n",
        "If we wish to integrate a function $f(t)$ with respect to $t$, then first we divide the function into $n$ intervals of size $dt = a-b$, where $a$ is the starting of the interval. Thus, each interval gives a rectangle with height $f(a)$ and width $dt$. By summing the area of all the rectangles, we can approximate the area under the curve. As the size $dt$ approaches to zero, our estimate of the integral approcahes the analytical calculation. Essentially, the Riemann sum is cutting the region under the curve in vertical stripes, calculating area of the each stripe and summing them up.\n",
        "\n",
        "</details>"
      ]
    },
    {
      "cell_type": "markdown",
      "metadata": {
        "id": "4X4VSdVZXx9Z"
      },
      "source": [
        "## Section 4.1: Demonstration of the Riemann Sum\n",
        "\n",
        "*Estimated timing to here from start of tutorial: 60 min*\n"
      ]
    },
    {
      "cell_type": "markdown",
      "metadata": {
        "id": "obBgm-gZXx9Z"
      },
      "source": [
        "### Interactive Demo 4.1: Riemann Sum vs. Analytical Integral with changing step size\n",
        "\n",
        "Below, we will compare numerical integration using the Riemann Sum with the analytical solution. You can change the interval size $dt$ using the slider.\n",
        "\n",
        "\n",
        "\n",
        "1.   What values of dt result in the best numerical integration?\n",
        "2.   What is the downside of choosing that value of dt?\n",
        "3.   With large dt, why are we underestimating the integral (as opposed to overestimating?\n",
        "\n",
        "\n"
      ]
    },
    {
      "cell_type": "code",
      "metadata": {
        "cellView": "form",
        "execution": {
          "iopub.execute_input": "2021-07-01T11:38:38.995011Z",
          "iopub.status.busy": "2021-07-01T11:38:38.975814Z",
          "iopub.status.idle": "2021-07-01T11:38:39.712049Z",
          "shell.execute_reply": "2021-07-01T11:38:39.712574Z"
        },
        "id": "bxuN8PiOXx9a"
      },
      "source": [
        "# @markdown Run this cell to enable the widget!\n",
        "def riemann_sum_demo(dt = 0.5):\n",
        "  step_size = 0.1\n",
        "  min_val = 0.\n",
        "  max_val = 10.\n",
        "  tx = np.arange(min_val, max_val, step_size)\n",
        "\n",
        "  # Our function\n",
        "  ftn = tx**2 - tx + 1\n",
        "  # And the integral analytical formula calculates using sympy\n",
        "  int_ftn = tx**3/3 - tx**2/2 + tx\n",
        "\n",
        "  # Numerical integration of f(t) using Riemann Sum\n",
        "  n = int((max_val-min_val)/dt)\n",
        "  r_tx = np.zeros(n)\n",
        "  fun_value = np.zeros(n)\n",
        "  for ii in range(n):\n",
        "    a = min_val+ii*dt\n",
        "    fun_value[ii] = a**2 - a + 1\n",
        "    r_tx[ii] = a;\n",
        "\n",
        "  # Riemann sum is just cumulative sum of the fun_value multiplied by the\n",
        "  r_sum = np.cumsum(fun_value)*dt\n",
        "  with plt.xkcd():\n",
        "    plt.figure(figsize=(20,5))\n",
        "    ax = plt.subplot(1,2,1)\n",
        "    plt.plot(tx,ftn,label='Function')\n",
        "\n",
        "    for ii in range(n):\n",
        "      plt.plot([r_tx[ii], r_tx[ii], r_tx[ii]+dt, r_tx[ii]+dt], [0, fun_value[ii], fun_value[ii], 0] ,color='r')\n",
        "\n",
        "    plt.xlabel('Time (au)')\n",
        "    plt.ylabel('f(t)')\n",
        "    plt.title('f(t)')\n",
        "    plt.grid()\n",
        "\n",
        "    plt.subplot(1,2,2)\n",
        "    plt.plot(tx,int_ftn,label='Analytical')\n",
        "    plt.plot(r_tx+dt,r_sum,color = 'r',label='Riemann Sum')\n",
        "    plt.xlabel('Time (au)')\n",
        "    plt.ylabel('int(f(t))')\n",
        "    plt.title('Integral of f(t)')\n",
        "    plt.grid()\n",
        "    plt.legend()\n",
        "    plt.show()\n",
        "\n",
        "\n",
        "_ = widgets.interact(riemann_sum_demo, dt = (0.1, 1., .02))"
      ],
      "execution_count": null,
      "outputs": []
    },
    {
      "cell_type": "markdown",
      "metadata": {
        "execution": {
          "iopub.execute_input": "2021-07-01T11:38:39.721376Z",
          "iopub.status.busy": "2021-07-01T11:38:39.720144Z",
          "iopub.status.idle": "2021-07-01T11:38:39.723251Z",
          "shell.execute_reply": "2021-07-01T11:38:39.723662Z"
        },
        "id": "SfYjApKkXx9a"
      },
      "source": [
        "[*Click for solution*](https://github.com/NeuromatchAcademy/course-content/tree/master//tutorials/W0D4_Calculus/solutions/W0D4_Tutorial1_Solution_fd942e45.py)\n",
        "\n"
      ]
    },
    {
      "cell_type": "markdown",
      "metadata": {
        "id": "O5a6708TXx9a"
      },
      "source": [
        "There are other methods of numerical integration, such as \n",
        "**[Lebesgue integral](https://en.wikipedia.org/wiki/Lebesgue_integral)** and **Runge Kutta**. In the Lebesgue integral, we divide the area under the curve into horizontal stripes. That is, instead of the independent variable, the range of the function $f(t)$ is divided into small intervals. In any case, the Riemann sum is the basis of Euler's method of integration for solving ordinary differential equations - something you will do in a later tutorial today.\n"
      ]
    },
    {
      "cell_type": "markdown",
      "metadata": {
        "id": "AUgIkvCZXx9a"
      },
      "source": [
        "## Section 4.2: Neural Applications of Numerical Integration\n",
        "\n",
        "*Estimated timing to here from start of tutorial: 68 min*\n"
      ]
    },
    {
      "cell_type": "markdown",
      "metadata": {
        "id": "aT5rreVtXx9a"
      },
      "source": [
        "### Coding Exercise 4.2: Calculating Charge Transfer with Excitatory Input\n",
        "An incoming spike elicits a change in the post-synaptic membrane potential ($PSP(t)$) which can be captured by the following function\n",
        "\n",
        "\\begin{align}\n",
        "PSP(t) = J\\times t\\times exp\\big(-\\frac{t-t_{sp}}{\\tau_{s}}\\big)\n",
        "\\end{align}\n",
        "\n",
        "where $J$ is the synaptic amplitude, $t_{sp}$ is the spike time and $\\tau_s$ is the synaptic time constant.\n",
        "\n",
        "Estimate the total charge transfered to the postsynaptic neuron during an PSP with amplitude $J=1.0$, $\\tau_s = 1.0$ and $t_{sp} = 1.$ (that is the spike occured at 1ms). The total charge will be the integral of the PSP function."
      ]
    },
    {
      "cell_type": "code",
      "metadata": {
        "execution": {
          "iopub.execute_input": "2021-07-01T11:38:39.733257Z",
          "iopub.status.busy": "2021-07-01T11:38:39.732261Z",
          "iopub.status.idle": "2021-07-01T11:38:39.739830Z",
          "shell.execute_reply": "2021-07-01T11:38:39.739132Z"
        },
        "id": "sU-SjXF2Xx9b"
      },
      "source": [
        "########################################################################\n",
        "## TODO for students\n",
        "## Complete all ... in code below and remove\n",
        "raise NotImplementedError(\"Calculate the charge transfer\")\n",
        "########################################################################\n",
        "\n",
        "# Set up parameters\n",
        "J = 1\n",
        "tau_s = 1\n",
        "t_sp = 1\n",
        "dt = .1\n",
        "t = np.arange(0, 10, dt)\n",
        "\n",
        "# Code PSP formula\n",
        "PSP = ...\n",
        "\n",
        "# Compute numerical integral\n",
        "# We already have PSP at every time step (height of rectangles). We need to\n",
        "#.  multiply by width of rectangles (dt) to get areas\n",
        "rectangle_areas = ...\n",
        "\n",
        "# Cumulatively sum rectangles (hint: use np.cumsum)\n",
        "numerical_integral = ...\n",
        "\n",
        "# Visualize\n",
        "plot_charge_transfer(t, PSP, numerical_integral)"
      ],
      "execution_count": null,
      "outputs": []
    },
    {
      "cell_type": "markdown",
      "metadata": {
        "execution": {
          "iopub.execute_input": "2021-07-01T11:38:39.813739Z",
          "iopub.status.busy": "2021-07-01T11:38:39.769869Z",
          "iopub.status.idle": "2021-07-01T11:38:40.209177Z",
          "shell.execute_reply": "2021-07-01T11:38:40.208314Z"
        },
        "id": "E0qZiSDgXx9b"
      },
      "source": [
        "[*Click for solution*](https://github.com/NeuromatchAcademy/course-content/tree/master//tutorials/W0D4_Calculus/solutions/W0D4_Tutorial1_Solution_200c1e98.py)\n",
        "\n",
        "*Example output:*\n",
        "\n",
        "<img alt='Solution hint' align='left' width=1687.0 height=607.0 src=https://raw.githubusercontent.com/NeuromatchAcademy/course-content/master/tutorials/W0D4_Calculus/static/W0D4_Tutorial1_Solution_200c1e98_0.png>\n",
        "\n"
      ]
    },
    {
      "cell_type": "markdown",
      "metadata": {
        "id": "BW_gVqRDXx9b"
      },
      "source": [
        "You can see from the figure that the total charge transferred is a little over 2.5. "
      ]
    },
    {
      "cell_type": "markdown",
      "metadata": {
        "id": "adntmi1MXx9b"
      },
      "source": [
        "---\n",
        "# Section 5: Differentiation and Integration as Filtering Operations\n",
        "\n",
        "*Estimated timing to here from start of tutorial: 75 min*"
      ]
    },
    {
      "cell_type": "code",
      "metadata": {
        "cellView": "form",
        "execution": {
          "iopub.execute_input": "2021-07-01T11:38:40.221035Z",
          "iopub.status.busy": "2021-07-01T11:38:40.220485Z",
          "iopub.status.idle": "2021-07-01T11:38:40.298650Z",
          "shell.execute_reply": "2021-07-01T11:38:40.299159Z"
        },
        "id": "_hzFGYMjXx9b"
      },
      "source": [
        "# @title Video 6: Filtering Operations\n",
        "from ipywidgets import widgets\n",
        "\n",
        "out2 = widgets.Output()\n",
        "with out2:\n",
        "  from IPython.display import IFrame\n",
        "  class BiliVideo(IFrame):\n",
        "      def __init__(self, id, page=1, width=400, height=300, **kwargs):\n",
        "          self.id=id\n",
        "          src = 'https://player.bilibili.com/player.html?bvid={0}&page={1}'.format(id, page)\n",
        "          super(BiliVideo, self).__init__(src, width, height, **kwargs)\n",
        "\n",
        "  video = BiliVideo(id=\"BV1Vy4y1M7oT\", width=854, height=480, fs=1)\n",
        "  print('Video available at https://www.bilibili.com/video/{0}'.format(video.id))\n",
        "  display(video)\n",
        "\n",
        "out1 = widgets.Output()\n",
        "with out1:\n",
        "  from IPython.display import YouTubeVideo\n",
        "  video = YouTubeVideo(id=\"7_ZjlT2d174\", width=854, height=480, fs=1, rel=0)\n",
        "  print('Video available at https://youtube.com/watch?v=' + video.id)\n",
        "  display(video)\n",
        "\n",
        "out = widgets.Tab([out1, out2])\n",
        "out.set_title(0, 'Youtube')\n",
        "out.set_title(1, 'Bilibili')\n",
        "\n",
        "display(out)"
      ],
      "execution_count": null,
      "outputs": []
    },
    {
      "cell_type": "markdown",
      "metadata": {
        "id": "SsKdvE6xXx9c"
      },
      "source": [
        "This video covers a different interpretation of differentiation and integration: viewing them as filtering operations.\n",
        "\n",
        "<details>\n",
        "<summary> <font color='blue'>Click here for text recap of video </font></summary>\n",
        "In the above, we used the notions that geometrically integration is the area under the curve and differentiation is the slope of the curve. There is another interpretation of these two operations.\n",
        "\n",
        "As we calculate the derivative of a function, we take the difference of adjacent values of the function. This results in the removal of common part between the two values. As a consequence, we end up removing the unchanging part of the signal. If we now think in terms of frequencies, differentiation removes low frequencies, or slow changes. That is, differentiation acts as a high pass filter. \n",
        "\n",
        "Integration does the opposite because in the estimation of an integral we keep adding adjacent values of the signal. So, again thinking in terms of frequencies, integration is akin to the removal of high frequencies or fast changes (low-pass filter). The shock absorbers in your bike are an example of integrators. \n",
        "\n",
        "We can see this behavior the demo below. Here we will not work with functions, but with signals. As such, functions and signals are the same. Just that in most cases our signals are measurements with respect to time."
      ]
    },
    {
      "cell_type": "code",
      "metadata": {
        "cellView": "form",
        "execution": {
          "iopub.execute_input": "2021-07-01T11:38:40.386758Z",
          "iopub.status.busy": "2021-07-01T11:38:40.358300Z",
          "iopub.status.idle": "2021-07-01T11:38:41.195223Z",
          "shell.execute_reply": "2021-07-01T11:38:41.194431Z"
        },
        "id": "-v26TuMZXx9c"
      },
      "source": [
        "# @markdown Execute this cell to see visualization\n",
        "h = 0.01\n",
        "tx = np.arange(0,2,h)\n",
        "noise_signal = np.random.uniform(0, 1, (len(tx)))*0.5\n",
        "x1 = np.sin(0.5*np.pi*tx) + noise_signal # This will generate a 1 Hz sin wave\n",
        "# In the signal x1 we have added random noise which contributs the high frequencies\n",
        "\n",
        "# Take the derivative equivalent of the signal i.e. subtract the adjacent values\n",
        "x1_diff = (x1[1:] - x1[:-1])\n",
        "\n",
        "# Take the integration equivalent of the signal i.e. sum the adjacent values. And divide by 2 (take average essentially)\n",
        "x1_integrate = (x1[1:] + x1[:-1])/2\n",
        "\n",
        "# Plotting code\n",
        "plt.figure(figsize=(15,10))\n",
        "plt.subplot(3,1,1)\n",
        "plt.plot(tx,x1,label='Original Signal')\n",
        "#plt.xlabel('Time (sec)')\n",
        "plt.ylabel('Signal Value(au)')\n",
        "plt.legend()\n",
        "\n",
        "plt.subplot(3,1,2)\n",
        "plt.plot(tx[0:-1],x1_diff,label='Differentiated Signal')\n",
        "# plt.xlabel('Time (sec)')\n",
        "plt.ylabel('Differentiated Value(au)')\n",
        "plt.legend()\n",
        "\n",
        "plt.subplot(3,1,3)\n",
        "plt.plot(tx,x1,label='Original Signal')\n",
        "plt.plot(tx[0:-1],x1_integrate,label='Integrate Signal')\n",
        "plt.xlabel('Time (sec)')\n",
        "plt.ylabel('Integrate Value(au)')\n",
        "plt.legend()"
      ],
      "execution_count": null,
      "outputs": []
    },
    {
      "cell_type": "markdown",
      "metadata": {
        "id": "XzHOw42nXx9c"
      },
      "source": [
        "Notice how the differentiation operation amplifies the fast changes which were contributed by noise. By contrast, the integration operation supresses the fast changing noise. If we perform the same operation of averaging the adjancent samples on the orange trace, we will further smooth the signal.  Such sums and subtractions form the basis of digital filters. \n",
        "\n",
        "\n"
      ]
    },
    {
      "cell_type": "markdown",
      "metadata": {
        "id": "VuBbYo_OXx9d"
      },
      "source": [
        "---\n",
        "# Summary\n",
        "\n",
        "*Estimated timing of tutorial: 80 minutes*\n",
        "\n",
        "* Geometrically, integration is the area under the curve and differentiation is the slope of the function\n",
        "* The concepts of slope and area can be easily extended to higher dimensions. We saw this when we took the derivative of a 2-dimensional transfer function of a neuron\n",
        "* Numerical estimates of both derivatives and integrals require us to choose a time step $h$. The smaller the $h$, the better the estimate, but for small values of $h$, more computations are needed. So there is always some tradeoff.\n",
        "* Partial derivatives are just the estimate of the slope along one of the many dimensions of the function. We can combine the slopes in different directions using vector sum to find the direction of the slope.\n",
        "* Because the derivative of a function is zero at the local peak or trough, derivatives are used to solve optimization problems.\n",
        "* When thinking of signal, integration operation is equivalent to smoothening the signals (i.e. remove fast changes)\n",
        "* Differentiation operations remove slow changes and enhance high frequency content of a signal"
      ]
    },
    {
      "cell_type": "markdown",
      "metadata": {
        "id": "PKzg4WZ4Xx9r"
      },
      "source": [
        "---\n",
        "# Bonus Section 1: Numerical calculation of partial derivatives\n",
        "\n",
        "\n"
      ]
    },
    {
      "cell_type": "markdown",
      "metadata": {
        "id": "XvhEXSBNXx9r"
      },
      "source": [
        "## Bonus Section 1.1: Understanding 2D plots\n",
        "\n",
        "Let's take the example of a  neuron driven by excitatory and inhibitory inputs. Because this is for illustrative purposes, we will not go in the details of the numerical range of the input and output variables.\n",
        "\n",
        "In the function below, we assume that the firing rate of a neuron increases motonotically with an increase in excitation and decreases monotonically with an increase in inhibition. The inhibition is modelled as a subtraction. Like for the 1-dimensional transfer function, here we assume that we can approximate the transfer function as a sigmoid function.\n",
        "\n",
        "To evaluate the partial derivatives we can use the same numerical differentiation as before but now we apply it to each row and column separately. "
      ]
    },
    {
      "cell_type": "code",
      "metadata": {
        "cellView": "form",
        "execution": {
          "iopub.execute_input": "2021-07-01T11:38:41.209526Z",
          "iopub.status.busy": "2021-07-01T11:38:41.208338Z",
          "iopub.status.idle": "2021-07-01T11:38:42.903652Z",
          "shell.execute_reply": "2021-07-01T11:38:42.903216Z"
        },
        "id": "tIq4sIw_Xx9r"
      },
      "source": [
        "# @markdown Execute this cell to visualize the neuron firing rate surface\n",
        "def sigmoid_function(x,a,theta):\n",
        "    '''\n",
        "    Population activation function.\n",
        "\n",
        "    Expects:\n",
        "    x     : the population input\n",
        "    a     : the gain of the function\n",
        "    theta : the threshold of the function\n",
        "\n",
        "    Returns:\n",
        "    the population activation response F(x) for input x\n",
        "    '''\n",
        "    # add the expression of f = F(x)\n",
        "    f = (1+np.exp(-a*(x-theta)))**-1 - (1+np.exp(a*theta))**-1\n",
        "\n",
        "    return f\n",
        "\n",
        "# Neuron Transfer function\n",
        "step_size = 0.1\n",
        "exc_input = np.arange(2,9,step_size)\n",
        "inh_input = np.arange(0,7,step_size)\n",
        "exc_a = 1.2\n",
        "exc_theta = 2.4\n",
        "inh_a = 1.\n",
        "inh_theta = 4.\n",
        "\n",
        "rate = np.zeros((len(exc_input),len(inh_input)))\n",
        "\n",
        "for ii in range(len(exc_input)):\n",
        "  for jj in range(len(inh_input)):\n",
        "    rate[ii,jj] = sigmoid_function(exc_input[ii],exc_a,exc_theta) - sigmoid_function(inh_input[jj],inh_a,inh_theta)*0.5\n",
        "\n",
        "with plt.xkcd():\n",
        "  X, Y = np.meshgrid(exc_input, inh_input)\n",
        "  fig = plt.figure(figsize=(12,12))\n",
        "  ax1 = fig.add_subplot(2,2,1)\n",
        "  lg_txt = 'Inhibition = ' + str(inh_input[0])\n",
        "  ax1.plot(exc_input,rate[:,0],label=lg_txt)\n",
        "  lg_txt = 'Inhibition = ' + str(inh_input[20])\n",
        "  ax1.plot(exc_input,rate[:,20],label=lg_txt)\n",
        "  lg_txt = 'Inhibition = ' + str(inh_input[40])\n",
        "  ax1.plot(exc_input,rate[:,40],label=lg_txt)\n",
        "  ax1.legend()\n",
        "  ax1.set_xlabel('Excitatory input (au)')\n",
        "  ax1.set_ylabel('Neuron output rate (au)');\n",
        "\n",
        "  ax2 = fig.add_subplot(2,2,2)\n",
        "  lg_txt = 'Excitation = ' + str(exc_input[0])\n",
        "  ax2.plot(inh_input,rate[0,:],label=lg_txt)\n",
        "  lg_txt = 'Excitation = ' + str(exc_input[20])\n",
        "  ax2.plot(inh_input,rate[20,:],label=lg_txt)\n",
        "  lg_txt = 'Excitation = ' + str(exc_input[40])\n",
        "  ax2.plot(inh_input,rate[40,:],label=lg_txt)\n",
        "  ax2.legend()\n",
        "  ax2.set_xlabel('Inhibitory input (au)')\n",
        "  ax2.set_ylabel('Neuron output rate (au)');\n",
        "\n",
        "  ax3 = fig.add_subplot(2, 1, 2, projection='3d')\n",
        "  surf= ax3.plot_surface(Y.T, X.T, rate, rstride=1, cstride=1,\n",
        "                  cmap='viridis', edgecolor='none')\n",
        "  ax3.set_xlabel('Inhibitory input (au)')\n",
        "  ax3.set_ylabel('Excitatory input (au)')\n",
        "  ax3.set_zlabel('Neuron output rate (au)');\n",
        "  fig.colorbar(surf)"
      ],
      "execution_count": null,
      "outputs": []
    },
    {
      "cell_type": "markdown",
      "metadata": {
        "id": "bc8-v1fEXx9s"
      },
      "source": [
        "In the **Top-Left** plot, we see how the neuron output rate increases as a function of excitatory input (e.g. the blue trace). However, as we increase inhibition, expectedly the neuron output decreases and the curve is shifted downwards. This constant shift in the curve suggests that the effect of inhibition is subtractive, and the amount of subtraction does not depend on the neuron output. \n",
        "\n",
        "We can alternatively see how the neuron output changes with respect to inhibition and study how excitation affects that. This is visualized in the **Top-Right** plot.\n",
        "\n",
        "This type of plotting is very intuitive, but it becomes very tedious to visualize when there are larger numbers of lines to be plotted. A nice solution to this visualization problem is to render the data as color, as surfaces, or both. \n",
        "\n",
        "This is what we have done in the plot on the bottom. The colormap on the right shows the output of the neuron as a function of inhibitory input and excitatory input. The output rate is shown both as height along the z-axis and as the color. Blue means low firing rate and yellow means high firing rate (see the color bar).\n",
        "\n",
        "\n",
        "In the above plot, the output rate of the neuron goes below zero. This is of course not physiological as neurons cannot have negative firing rates. In models, we either choose the operating point such that the output does not go below zero, or else we clamp the neuron output to zero if it goes below zero. You will learn about it more in Week 2."
      ]
    },
    {
      "cell_type": "markdown",
      "metadata": {
        "id": "VDW1sDZlXx9s"
      },
      "source": [
        "## Bonus Section 1.2: Numerical partial derivatives\n",
        "\n",
        "We can now compute the partial derivatives of our transfer function in response to excitatory and inhibitory input. We do so below! "
      ]
    },
    {
      "cell_type": "code",
      "metadata": {
        "cellView": "form",
        "execution": {
          "iopub.execute_input": "2021-07-01T11:38:42.917314Z",
          "iopub.status.busy": "2021-07-01T11:38:42.906225Z",
          "iopub.status.idle": "2021-07-01T11:38:42.919789Z",
          "shell.execute_reply": "2021-07-01T11:38:42.919284Z"
        },
        "id": "s7vxRlT4Xx9t"
      },
      "source": [
        "# @markdown Execute this cell implement our neural transfer function, `plot_2d_neuron_transfer_function`, in respond to excitatory and inhibitory input\n",
        "def plot_2d_neuron_transfer_function(exc_a, exc_theta, inh_a, inh_theta):\n",
        "    # Neuron Transfer Function\n",
        "    step_size = 0.1\n",
        "    exc_input = np.arange(1,10,step_size)\n",
        "    inh_input = np.arange(0,7,step_size)\n",
        "\n",
        "    rate = np.zeros((len(exc_input),len(inh_input)))\n",
        "    for ii in range(len(exc_input)):\n",
        "      for jj in range(len(inh_input)):\n",
        "        rate[ii,jj] = sigmoid_function(exc_input[ii],exc_a,exc_theta) - sigmoid_function(inh_input[jj],inh_a,inh_theta)*0.5\n",
        "\n",
        "    # Derivative with respect to excitatory input rate\n",
        "    rate_de = np.zeros((len(exc_input)-1,len(inh_input)))# this will have one row less than the rate matrix\n",
        "    for ii in range(len(inh_input)):\n",
        "      rate_de[:,ii] = (rate[1:,ii] - rate[0:-1,ii])/step_size\n",
        "\n",
        "    # Derivative with respect to inhibitory input rate\n",
        "    rate_di = np.zeros((len(exc_input),len(inh_input)-1))# this will have one column less than the rate matrix\n",
        "    for ii in range(len(exc_input)):\n",
        "      rate_di[ii,:] = (rate[ii,1:] - rate[ii,0:-1])/step_size\n",
        "\n",
        "\n",
        "    X, Y = np.meshgrid(exc_input, inh_input)\n",
        "    fig = plt.figure(figsize=(20,8))\n",
        "    ax1 = fig.add_subplot(1, 3, 1, projection='3d')\n",
        "    surf1 = ax1.plot_surface(Y.T, X.T, rate, rstride=1, cstride=1, cmap='viridis', edgecolor='none')\n",
        "    ax1.set_xlabel('Inhibitory input (au)')\n",
        "    ax1.set_ylabel('Excitatory input (au)')\n",
        "    ax1.set_zlabel('Neuron output rate (au)')\n",
        "    ax1.set_title('Rate as a function of Exc. and Inh');\n",
        "    ax1.view_init(45, 10)\n",
        "    fig.colorbar(surf1)\n",
        "\n",
        "    Xde, Yde = np.meshgrid(exc_input[0:-1], inh_input)\n",
        "    ax2 = fig.add_subplot(1, 3, 2, projection='3d')\n",
        "    surf2 = ax2.plot_surface(Yde.T, Xde.T, rate_de, rstride=1, cstride=1, cmap='viridis', edgecolor='none')\n",
        "    ax2.set_xlabel('Inhibitory input (au)')\n",
        "    ax2.set_ylabel('Excitatory input (au)')\n",
        "    ax2.set_zlabel('Neuron output rate (au)');\n",
        "    ax2.set_title('Derivative wrt Excitation');\n",
        "    ax2.view_init(45, 10)\n",
        "    fig.colorbar(surf2)\n",
        "\n",
        "    Xdi, Ydi = np.meshgrid(exc_input, inh_input[:-1])\n",
        "    ax3 = fig.add_subplot(1, 3, 3, projection='3d')\n",
        "    surf3 = ax3.plot_surface(Ydi.T, Xdi.T, rate_di, rstride=1, cstride=1, cmap='viridis', edgecolor='none')\n",
        "    ax3.set_xlabel('Inhibitory input (au)')\n",
        "    ax3.set_ylabel('Excitatory input (au)')\n",
        "    ax3.set_zlabel('Neuron output rate (au)');\n",
        "    ax3.set_title('Derivative wrt Inhibition');\n",
        "    ax3.view_init(15, -115)\n",
        "    fig.colorbar(surf3)"
      ],
      "execution_count": null,
      "outputs": []
    },
    {
      "cell_type": "code",
      "metadata": {
        "execution": {
          "iopub.execute_input": "2021-07-01T11:38:42.938629Z",
          "iopub.status.busy": "2021-07-01T11:38:42.928277Z",
          "iopub.status.idle": "2021-07-01T11:38:45.741856Z",
          "shell.execute_reply": "2021-07-01T11:38:45.742271Z"
        },
        "id": "1kT9IrXlXx9t"
      },
      "source": [
        "plot_2d_neuron_transfer_function(exc_a = 1.2, exc_theta = 2.4, inh_a = 1, inh_theta = 4)"
      ],
      "execution_count": null,
      "outputs": []
    },
    {
      "cell_type": "markdown",
      "metadata": {
        "id": "VkRqUuusXx9t"
      },
      "source": [
        "Is this what you expected? Change the parameters in the function to generate the 2-d transfer function of the neuron for different excitatory and inhibitory $a$ and $\\theta$ and test your intuitions Can you relate this shape of the partial derivative surface to the gain of the 1-d transfer-function of a neuron (Section 2)?\n",
        "\n"
      ]
    },
    {
      "cell_type": "markdown",
      "metadata": {
        "execution": {
          "iopub.execute_input": "2021-07-01T11:38:45.748485Z",
          "iopub.status.busy": "2021-07-01T11:38:45.747944Z",
          "iopub.status.idle": "2021-07-01T11:38:45.750388Z",
          "shell.execute_reply": "2021-07-01T11:38:45.750872Z"
        },
        "id": "rOzrL79_Xx9t"
      },
      "source": [
        "[*Click for solution*](https://github.com/NeuromatchAcademy/course-content/tree/master//tutorials/W0D4_Calculus/solutions/W0D4_Tutorial1_Solution_cdb38705.py)\n",
        "\n"
      ]
    }
  ]
}